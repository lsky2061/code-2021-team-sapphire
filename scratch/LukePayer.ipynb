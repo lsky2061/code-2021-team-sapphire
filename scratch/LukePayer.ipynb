{
 "cells": [
  {
   "cell_type": "markdown",
   "id": "0b3249a2",
   "metadata": {},
   "source": [
    "## Looking at Individual Payer 417614\n",
    "### v3.0 (final)\n",
    "\n",
    "This notebook is Luke Corwin's investigation of several different models on one payer. We concluded that treating all payers together gave higher performance than modeling them separately."
   ]
  },
  {
   "cell_type": "code",
   "execution_count": 1,
   "id": "16517edf",
   "metadata": {},
   "outputs": [],
   "source": [
    "import pandas as pd\n",
    "import numpy as np\n",
    "import seaborn as sn\n",
    "import matplotlib.pyplot as plt\n",
    "\n",
    "from sklearn.model_selection import train_test_split"
   ]
  },
  {
   "cell_type": "code",
   "execution_count": 2,
   "id": "adcbfe72",
   "metadata": {},
   "outputs": [],
   "source": [
    "#We were given several different data sets, and I merged them together for this investigation.\n",
    "bridge = pd.read_csv(\"../data/bridge.csv\")\n",
    "dim_claims = pd.read_csv(\"../data/dim_claims.csv\")\n",
    "dim_date = pd.read_csv(\"../data/dim_date.csv\")\n",
    "dim_pa = pd.read_csv(\"../data/dim_pa.csv\")"
   ]
  },
  {
   "cell_type": "code",
   "execution_count": 3,
   "id": "44f3c459",
   "metadata": {},
   "outputs": [],
   "source": [
    "df2 = bridge.merge(dim_claims, on='dim_claim_id', how='left').copy()\n",
    "df4 = df2.merge(dim_pa, on='dim_pa_id', how='left').copy()"
   ]
  },
  {
   "cell_type": "code",
   "execution_count": 4,
   "id": "af60c695",
   "metadata": {},
   "outputs": [],
   "source": [
    "#Select only those rows in the merged data set that contain this payer\n",
    "mypayer=df4[df4.bin == 417614].copy()"
   ]
  },
  {
   "cell_type": "code",
   "execution_count": 5,
   "id": "632c4f76",
   "metadata": {},
   "outputs": [],
   "source": [
    "#Impute -1 into all of the N/A values\n",
    "mypayer = mypayer.fillna(-1)"
   ]
  },
  {
   "cell_type": "markdown",
   "id": "db74a6b7",
   "metadata": {},
   "source": [
    "Do we have any cases where the drug is rejected, but a PA is not requested? If we do, the code below will retrun -1"
   ]
  },
  {
   "cell_type": "code",
   "execution_count": 6,
   "id": "ea9f82d2",
   "metadata": {},
   "outputs": [
    {
     "data": {
      "text/plain": [
       "5.0"
      ]
     },
     "execution_count": 6,
     "metadata": {},
     "output_type": "execute_result"
    }
   ],
   "source": [
    "min(mypayer[(mypayer.pharmacy_claim_approved == 0)].dim_pa_id)"
   ]
  },
  {
   "cell_type": "markdown",
   "id": "9b698977",
   "metadata": {},
   "source": [
    "Now, to tackle the question \"If a PA is required which features on the PA claim (Correct diagnosis, Tried and failed, Contraindication) help get the PA approved?\"\n",
    "\n",
    "Given what we found above, all or nearly all of the code 75 rejections should be approved with a PA\n",
    "\n",
    "We also perform a train/test split."
   ]
  },
  {
   "cell_type": "code",
   "execution_count": 9,
   "id": "9dfe71fa",
   "metadata": {},
   "outputs": [
    {
     "name": "stdout",
     "output_type": "stream",
     "text": [
      "Reject Code  70.0 has approval rate of  0.5817332685637341\n",
      "Reject Code  75.0 has approval rate of  0.973280051475693\n",
      "Reject Code  76.0 has approval rate of  0.6401508011310085\n"
     ]
    }
   ],
   "source": [
    "pa = mypayer[mypayer.pharmacy_claim_approved == 0].copy()\n",
    "y = pa['pa_approved']\n",
    "\n",
    "X_train,X_test,y_train,y_test = train_test_split(pa,y,\n",
    "                                                 test_size = .25,\n",
    "                                                 random_state = 614,\n",
    "                                                 shuffle = True,\n",
    "                                                 stratify = y)\n",
    "\n",
    "codes = X_train['reject_code'].unique()\n",
    "\n",
    "for code in codes:\n",
    "    if(code != -1): \n",
    "        pa_approved = X_train[(X_train.reject_code == code) & (y_train == 1)].shape[0]\n",
    "        pa_req = X_train[(X_train.reject_code == code) & (X_train.dim_pa_id > 0)].shape[0]\n",
    "        if(pa_req == 0): \n",
    "            app_rate = -99\n",
    "        else:\n",
    "            app_rate = pa_approved/pa_req\n",
    "        print(\"Reject Code \",code,\"has approval rate of \",app_rate)"
   ]
  },
  {
   "cell_type": "markdown",
   "id": "9a29b379",
   "metadata": {},
   "source": [
    "## Baselining \n",
    "\n",
    "What metrics would we measure if we assumed all PAs would be accepted and merged all payers together? This would be the \"least intelligent\" way to do it, so any machine learning method should be better."
   ]
  },
  {
   "cell_type": "code",
   "execution_count": 11,
   "id": "68353a1b",
   "metadata": {},
   "outputs": [
    {
     "name": "stdout",
     "output_type": "stream",
     "text": [
      "Accuracy is  0.73445\n",
      "Precision is  0.73445\n",
      "Recall is  1.0\n",
      "F1 is  0.8469\n"
     ]
    }
   ],
   "source": [
    "rejected = df4[(df4.pa_approved == 0)].shape[0]\n",
    "accepted = df4[(df4.pa_approved == 1)].shape[0]\n",
    "\n",
    "tp = accepted\n",
    "fp = rejected\n",
    "fn = tn = 0\n",
    "\n",
    "a = (tp+tn)/(tp+fp+fn+tn)\n",
    "p = (tp)/(tp+fp)\n",
    "r = tp/(tp+fn)\n",
    "f1 = 2*(p*r)/(p+r)\n",
    "\n",
    "print(\"Accuracy is \",np.round(a,5))\n",
    "print(\"Precision is \",np.round(p,5))\n",
    "print(\"Recall is \",np.round(r,5))\n",
    "print(\"F1 is \",np.round(f1,5))"
   ]
  },
  {
   "cell_type": "markdown",
   "id": "1bb67ef5",
   "metadata": {},
   "source": [
    "## Now, using actual data science methods\n",
    "\n",
    "First we one-hot encode the rejection code and the drug"
   ]
  },
  {
   "cell_type": "code",
   "execution_count": 13,
   "id": "a6e3b9bd",
   "metadata": {},
   "outputs": [
    {
     "name": "stderr",
     "output_type": "stream",
     "text": [
      "/home/luke/.local/lib/python3.8/site-packages/pandas/core/indexing.py:1675: SettingWithCopyWarning: \n",
      "A value is trying to be set on a copy of a slice from a DataFrame.\n",
      "Try using .loc[row_indexer,col_indexer] = value instead\n",
      "\n",
      "See the caveats in the documentation: https://pandas.pydata.org/pandas-docs/stable/user_guide/indexing.html#returning-a-view-versus-a-copy\n",
      "  self._setitem_single_column(ilocs[0], value, pi)\n"
     ]
    }
   ],
   "source": [
    "\n",
    "rcd = pd.get_dummies(X_train['reject_code'])\n",
    "#hot code the rejection codes\n",
    "\n",
    "X_train.loc[:,'not_in_formulary'] = pd.get_dummies(X_train['reject_code'])[70.0]\n",
    "X_train.loc[:,'limit_exceeded'] = pd.get_dummies(X_train['reject_code'])[76.0]            "
   ]
  },
  {
   "cell_type": "code",
   "execution_count": 14,
   "id": "9a9e2895",
   "metadata": {},
   "outputs": [],
   "source": [
    "#hot code the drugs\n",
    "\n",
    "X_train.loc[:,'Drug A']=pd.get_dummies(X_train['drug'])['A']\n",
    "X_train.loc[:,'Drug B']=pd.get_dummies(X_train['drug'])['B']"
   ]
  },
  {
   "cell_type": "markdown",
   "id": "438c3403",
   "metadata": {},
   "source": [
    "### Logistic Regression"
   ]
  },
  {
   "cell_type": "code",
   "execution_count": 18,
   "id": "ed10cd08",
   "metadata": {},
   "outputs": [],
   "source": [
    "from sklearn.linear_model import LogisticRegression"
   ]
  },
  {
   "cell_type": "code",
   "execution_count": 19,
   "id": "cae8a96c",
   "metadata": {},
   "outputs": [],
   "source": [
    "#We keep only the features on which we want to regress.\n",
    "\n",
    "features = ['correct_diagnosis','tried_and_failed','contraindication',\n",
    "           'not_in_formulary','limit_exceeded','Drug A','Drug B']\n",
    "X_train = X_train[features] \n"
   ]
  },
  {
   "cell_type": "markdown",
   "id": "79774fc6",
   "metadata": {},
   "source": [
    "We measure our performance using several metrics (mainly recall and precision)"
   ]
  },
  {
   "cell_type": "code",
   "execution_count": 20,
   "id": "161bb6ea",
   "metadata": {},
   "outputs": [],
   "source": [
    "from sklearn.metrics import accuracy_score\n",
    "from sklearn.metrics import precision_score\n",
    "from sklearn.metrics import recall_score\n",
    "from sklearn.metrics import f1_score\n",
    "# import cross-validation\n",
    "from sklearn.model_selection import StratifiedKFold\n",
    "from sklearn.base import clone\n",
    "from sklearn.tree import DecisionTreeClassifier"
   ]
  },
  {
   "cell_type": "markdown",
   "id": "2d4ab612",
   "metadata": {},
   "source": [
    "In all cases we use 10-fold cross-validation"
   ]
  },
  {
   "cell_type": "code",
   "execution_count": 21,
   "id": "dcc4ad67",
   "metadata": {},
   "outputs": [],
   "source": [
    "f = 10\n",
    "kfold = StratifiedKFold(f,shuffle=True,random_state=440)"
   ]
  },
  {
   "cell_type": "code",
   "execution_count": 34,
   "id": "77d80a13",
   "metadata": {},
   "outputs": [
    {
     "name": "stdout",
     "output_type": "stream",
     "text": [
      "Now training fold 1 of 10\n",
      "Now training fold 2 of 10\n",
      "Now training fold 3 of 10\n",
      "Now training fold 4 of 10\n",
      "Now training fold 5 of 10\n",
      "Now training fold 6 of 10\n",
      "Now training fold 7 of 10\n",
      "Now training fold 8 of 10\n",
      "Now training fold 9 of 10\n",
      "Now training fold 10 of 10\n",
      "Training Done!\n"
     ]
    }
   ],
   "source": [
    "cutoffs = np.arange(0.578,0.5800,0.00001)\n",
    "\n",
    "accs = np.zeros((f,len(cutoffs)))\n",
    "precs = np.zeros((f,len(cutoffs)))\n",
    "recs = np.zeros((f,len(cutoffs)))\n",
    "f1s = np.zeros((f,len(cutoffs)))\n",
    "\n",
    "log_reg = LogisticRegression()\n",
    "tree_clf = DecisionTreeClassifier(random_state = 440)\n",
    "\n",
    "z=0\n",
    "\n",
    "fold = 0\n",
    "\n",
    "for train_index,test_index in kfold.split(X_train,y_train):\n",
    "    y_train_train,y_train_test = y_train.iloc[train_index],y_train.iloc[test_index]\n",
    "    X_train_train =X_train.iloc[train_index]\n",
    "    X_train_test = X_train.iloc[test_index]\n",
    "    print(\"Now training fold\",fold+1,\"of\",f)\n",
    "    log_reg_clone = clone(log_reg)\n",
    "    log_reg_clone.fit(X_train_train,y_train_train)\n",
    "    probs = log_reg_clone.predict_proba(X_train_test)[:,1]\n",
    "    #Our hyper-parameter is the cutoff probability where we classify whether this ePA will be approved or not\n",
    "    for j in range(len(cutoffs)):     \n",
    "        y_pred = 1*(probs > cutoffs[j])\n",
    "        accs[fold,j] = accuracy_score(y_train_test,y_pred)\n",
    "        precs[fold,j] = precision_score(y_train_test,y_pred,zero_division=z)\n",
    "        recs[fold,j] = recall_score(y_train_test,y_pred,zero_division=z)\n",
    "        f1s[fold,j] = f1_score(y_train_test,y_pred,zero_division=z)\n",
    "    fold=fold+1\n",
    "\n",
    "print(\"Training Done!\")"
   ]
  },
  {
   "cell_type": "code",
   "execution_count": 35,
   "id": "e4ba731f",
   "metadata": {},
   "outputs": [
    {
     "data": {
      "image/png": "[encoded data removed]",
      "text/plain": [
       "<Figure size 720x576 with 1 Axes>"
      ]
     },
     "metadata": {
      "needs_background": "light"
     },
     "output_type": "display_data"
    },
    {
     "name": "stdout",
     "output_type": "stream",
     "text": [
      "Our optimal cutoff at 0.5791 gives is a recall of  0.8777 with a precision of 0.8123\n"
     ]
    }
   ],
   "source": [
    "plt.figure(figsize=(10,8))\n",
    "\n",
    "plt.plot(cutoffs,np.mean(accs,axis=0),label=\"Accuracy\")\n",
    "plt.plot(cutoffs,np.mean(precs,axis=0),label=\"Precision\")\n",
    "plt.plot(cutoffs,np.mean(recs,axis=0),label=\"Recall\")\n",
    "plt.plot(cutoffs,np.mean(f1s,axis=0),label=\"F1 Score\")\n",
    "\n",
    "\n",
    "plt.xlabel(\"Cutoff\", fontsize=16)\n",
    "plt.ylabel(\"Mean CV Score\", fontsize=16)\n",
    "\n",
    "plt.legend(fontsize=16)\n",
    "\n",
    "\n",
    "plt.xlabel(\"Cutoff\", fontsize=16)\n",
    "plt.ylabel(\"Mean CV Accuracy\", fontsize=16)\n",
    "plt.savefig(\"BasicLogReg.jpg\")\n",
    "plt.show()\n",
    "\n",
    "prec_guard = 0.8\n",
    "prec = np.mean(precs,axis=0)\n",
    "rec = np.mean(recs,axis=0)\n",
    "\n",
    "prec2 = prec[prec>prec_guard]\n",
    "rec2 = rec[prec>prec_guard]\n",
    "\n",
    "#Find Highest recall with precision greater than guardrail value (0.8)\n",
    "l = np.argmax(rec2)\n",
    "cot = cutoffs[prec>prec_guard]\n",
    "\n",
    "print(\"Our optimal cutoff at\",np.round(cot[l],4),\"gives is a recall of \",np.round(rec2[l],4),\n",
    "      \"with a precision of\",np.round(prec2[l],4))\n",
    "\n",
    "              \n",
    "\n",
    "\n",
    "#tmp = pd.DataFrame([[drug,code,ci,cd,tf,frac]],columns=cl)\n",
    "#pa_df = pa_df.append(tmp,ignore_index = True)"
   ]
  },
  {
   "cell_type": "markdown",
   "id": "30ed1773",
   "metadata": {},
   "source": [
    "Let's see if we can determine how the features affect the outcome."
   ]
  },
  {
   "cell_type": "code",
   "execution_count": 26,
   "id": "5900647f",
   "metadata": {},
   "outputs": [
    {
     "data": {
      "text/plain": [
       "LogisticRegression()"
      ]
     },
     "execution_count": 26,
     "metadata": {},
     "output_type": "execute_result"
    }
   ],
   "source": [
    "log_reg_T = LogisticRegression()\n",
    "log_reg_T.fit(X_train,y_train)"
   ]
  },
  {
   "cell_type": "code",
   "execution_count": 28,
   "id": "3cbabe86",
   "metadata": {},
   "outputs": [
    {
     "name": "stdout",
     "output_type": "stream",
     "text": [
      "Changing  correct_diagnosis  from 0 to 1 multiplies the odds of being accepted by 1.36\n",
      "Changing  tried_and_failed  from 0 to 1 multiplies the odds of being accepted by 2.49\n",
      "Changing  contraindication  from 0 to 1 multiplies the odds of being accepted by 0.16\n",
      "Changing  not_in_formulary  from 0 to 1 multiplies the odds of being accepted by 0.57\n",
      "Changing  limit_exceeded  from 0 to 1 multiplies the odds of being accepted by 0.44\n",
      "Changing  Drug A  from 0 to 1 multiplies the odds of being accepted by 0.57\n",
      "Changing  Drug B  from 0 to 1 multiplies the odds of being accepted by 12.53\n"
     ]
    }
   ],
   "source": [
    "betas = log_reg_T.coef_\n",
    "betas.shape\n",
    "\n",
    "for i in range(0,betas.shape[1]):\n",
    "    print(\"Changing \",X_train.iloc[:,i].name,\" from 0 to 1 multiplies the odds of being accepted by \"+\n",
    "          str(np.round(np.exp(1*log_reg_T.coef_[0][i]),2)))\n",
    "\n"
   ]
  },
  {
   "cell_type": "code",
   "execution_count": null,
   "id": "87906ec9",
   "metadata": {},
   "outputs": [],
   "source": [
    "# Grid search of probabilities\n",
    "\n",
    "print(codes)\n",
    "drugs=X_train.drug.unique()\n",
    "print(drugs)"
   ]
  },
  {
   "cell_type": "code",
   "execution_count": null,
   "id": "50077627",
   "metadata": {},
   "outputs": [],
   "source": [
    "jb = [0,1]\n",
    "\n",
    "combs = 3*3*8\n",
    "zc = 0\n",
    "cl = ['drug','code','CI','CD','TF','approval rate']\n",
    "\n",
    "pa_df = pd.DataFrame(columns=cl)\n",
    "\n",
    "for drug in drugs:\n",
    "    for code in codes:\n",
    "        for ci in jb: #'contraindication'\n",
    "            for cd in jb: #correct diagnosis\n",
    "                for tf in jb: #tried_and_failed\n",
    "                    dd = X_train[(X_train.drug == drug) & (X_train.reject_code == code) & (X_train.contraindication == ci)\n",
    "                                   & (X_train.correct_diagnosis == cd) & (X_train.tried_and_failed == tf)]\n",
    "                    denom = dd.shape[0]\n",
    "                    if(denom == 0): \n",
    "                        #print(\"No Requests match this combination -- Drug: \", drug, \"reject code\", code,\n",
    "                           #  \"Contraindication = \",ci,\"correct diagnosis =\",cd,\"Tried and Failed = \",tf)\n",
    "                        zc = zc+1\n",
    "                    else:\n",
    "                        num = dd[dd.pa_approved == 1].shape[0]\n",
    "                        frac = num/denom\n",
    "                        print(frac)\n",
    "                        tmp = pd.DataFrame([[drug,code,ci,cd,tf,frac]],columns=cl)\n",
    "                        pa_df = pa_df.append(tmp,ignore_index = True)\n",
    "                        \n",
    "                        \n",
    "print(zc,\"out of \",combs,\"combinations have no PA requests\")\n",
    "        \n",
    "        "
   ]
  },
  {
   "cell_type": "code",
   "execution_count": null,
   "id": "f0454599",
   "metadata": {},
   "outputs": [],
   "source": [
    "pa_df.head(72-48)"
   ]
  },
  {
   "cell_type": "code",
   "execution_count": null,
   "id": "93e27c7f",
   "metadata": {},
   "outputs": [],
   "source": []
  },
  {
   "cell_type": "code",
   "execution_count": 36,
   "id": "e3e0ae08",
   "metadata": {},
   "outputs": [
    {
     "name": "stdout",
     "output_type": "stream",
     "text": [
      "Now training fold 1 of 10\n",
      "Now training fold 2 of 10\n",
      "Now training fold 3 of 10\n",
      "Now training fold 4 of 10\n",
      "Now training fold 5 of 10\n",
      "Now training fold 6 of 10\n",
      "Now training fold 7 of 10\n",
      "Now training fold 8 of 10\n",
      "Now training fold 9 of 10\n",
      "Now training fold 10 of 10\n"
     ]
    }
   ],
   "source": [
    "#Try a decision tree\n",
    "m = 10\n",
    "maxdepth = range(1,m+1)\n",
    "\n",
    "accs = np.zeros((f,len(maxdepth)))\n",
    "precs = np.zeros((f,len(maxdepth)))\n",
    "recs = np.zeros((f,len(maxdepth)))\n",
    "f1s = np.zeros((f,len(maxdepth)))\n",
    "\n",
    "\n",
    "z=0\n",
    "\n",
    "#y_prob = log_reg.predict_proba(X_train[features])[:,1] #Probability of Approval\n",
    "fold = 0\n",
    "\n",
    "for train_index,test_index in kfold.split(X_train,y_train):\n",
    "    #print(train_index)\n",
    "    #print(test_index)\n",
    "    y_train_train,y_train_test = y_train.iloc[train_index],y_train.iloc[test_index]\n",
    "    X_train_train =X_train.iloc[train_index]\n",
    "    X_train_test = X_train.iloc[test_index]\n",
    "    print(\"Now training fold\",fold+1,\"of\",f)\n",
    "\n",
    "    for j in range(1,m):\n",
    "        tree = DecisionTreeClassifier(max_depth=j, random_state = 440)\n",
    "        fig = tree.fit(X_train_train,y_train_train)\n",
    "        \n",
    "        y_pred = tree.predict(X_train_test)\n",
    "        accs[fold,j] = accuracy_score(y_train_test,y_pred)\n",
    "        precs[fold,j] = precision_score(y_train_test,y_pred,zero_division=z)\n",
    "        recs[fold,j] = recall_score(y_train_test,y_pred,zero_division=z)\n",
    "        f1s[fold,j] = f1_score(y_train_test,y_pred,zero_division=z)\n",
    "    fold=fold+1"
   ]
  },
  {
   "cell_type": "code",
   "execution_count": 40,
   "id": "33d61fb4",
   "metadata": {},
   "outputs": [
    {
     "data": {
      "image/png": "[encoded data removed]",
      "text/plain": [
       "<Figure size 720x576 with 1 Axes>"
      ]
     },
     "metadata": {
      "needs_background": "light"
     },
     "output_type": "display_data"
    },
    {
     "name": "stdout",
     "output_type": "stream",
     "text": [
      "0.780200469524983\n",
      "2\n",
      "0.9481085825667327\n"
     ]
    }
   ],
   "source": [
    "plt.figure(figsize=(10,8))\n",
    "\n",
    "plt.plot(maxdepth,np.mean(accs,axis=0),label=\"Accuracy\")\n",
    "plt.plot(maxdepth,np.mean(precs,axis=0),label=\"Precision\")\n",
    "plt.plot(maxdepth,np.mean(recs,axis=0),label=\"Recall\")\n",
    "plt.plot(maxdepth,np.mean(f1s,axis=0),label=\"F1 Score\")\n",
    "\n",
    "\n",
    "plt.xlabel(\"Max Depth\", fontsize=16)\n",
    "plt.ylabel(\"Mean CV Score\", fontsize=16)\n",
    "\n",
    "plt.legend(fontsize=16)\n",
    "\n",
    "\n",
    "plt.xlabel(\"Max Depth\", fontsize=16)\n",
    "plt.ylabel(\"Mean CV Accuracy\", fontsize=16)\n",
    "plt.savefig(\"BasicDecTree.jpg\")\n",
    "plt.show()\n",
    "\n",
    "print(np.max(np.mean(precs,axis=0)))\n",
    "print(np.argmax(np.mean(precs,axis=0)))\n",
    "\n",
    "lmdt = np.argmax(np.mean(precs,axis=0))\n",
    "rm = np.mean(recs,axis=0)[lmdt]\n",
    "print(rm)\n"
   ]
  },
  {
   "cell_type": "code",
   "execution_count": null,
   "id": "51a87b37",
   "metadata": {},
   "outputs": [],
   "source": [
    "plt.figure(figsize = (20,20))\n",
    "\n",
    "\n",
    "from sklearn import tree as t\n",
    "\n",
    "t.plot_tree(fig,filled = True,fontsize=12)\n",
    "plt.show()"
   ]
  },
  {
   "cell_type": "markdown",
   "id": "40edcdb3",
   "metadata": {},
   "source": [
    "## Random Forest"
   ]
  },
  {
   "cell_type": "code",
   "execution_count": 41,
   "id": "3f4f6933",
   "metadata": {},
   "outputs": [],
   "source": [
    "from sklearn.ensemble import RandomForestClassifier"
   ]
  },
  {
   "cell_type": "code",
   "execution_count": 42,
   "id": "045ab68f",
   "metadata": {},
   "outputs": [
    {
     "name": "stdout",
     "output_type": "stream",
     "text": [
      "20\n",
      "Now training fold 1 of 10\n",
      "Now training fold 2 of 10\n",
      "Now training fold 3 of 10\n",
      "Now training fold 4 of 10\n",
      "Now training fold 5 of 10\n",
      "Now training fold 6 of 10\n",
      "Now training fold 7 of 10\n",
      "Now training fold 8 of 10\n",
      "Now training fold 9 of 10\n",
      "Now training fold 10 of 10\n",
      "Training Done!\n"
     ]
    }
   ],
   "source": [
    "depth_limit = 20\n",
    "print(depth_limit)\n",
    "\n",
    "CV_acc = np.empty((f,depth_limit))\n",
    "prec = np.empty((f,depth_limit))\n",
    "recall = np.empty((f,depth_limit))\n",
    "\n",
    "\n",
    "## Perform kfold cross validation here for max depth or \n",
    "## min_samples_split here\n",
    "fold =0\n",
    "\n",
    "for train_index, test_index in kfold.split(X_train,y_train):\n",
    "    X_train_train,X_train_test = X_train.iloc[train_index],X_train.iloc[test_index]\n",
    "    y_train_train,y_train_test = y_train.iloc[train_index],y_train.iloc[test_index]\n",
    "    print(\"Now training fold\",fold+1,\"of\",f)\n",
    "    for md in range(1,depth_limit+1):\n",
    "        dec_tree = RandomForestClassifier(max_depth=md,random_state=440)\n",
    "        dec_tree.fit(X_train_train,y_train_train)\n",
    "        y_pred = dec_tree.predict(X_train_test)\n",
    "        CV_acc[fold,md-1] = accuracy_score(y_train_test,y_pred)\n",
    "        prec[fold,md-1] = precision_score(y_train_test,y_pred)\n",
    "        recall[fold,md-1] = recall_score(y_train_test,y_pred)\n",
    "    fold=fold+1\n",
    "    \n",
    "print(\"Training Done!\")\n"
   ]
  },
  {
   "cell_type": "code",
   "execution_count": 48,
   "id": "a4682357",
   "metadata": {},
   "outputs": [
    {
     "data": {
      "image/png": "[encoded data removed]",
      "text/plain": [
       "<Figure size 720x576 with 1 Axes>"
      ]
     },
     "metadata": {
      "needs_background": "light"
     },
     "output_type": "display_data"
    },
    {
     "name": "stdout",
     "output_type": "stream",
     "text": [
      "range(1, 21)\n",
      "4\n",
      "Precision:  0.780200469524983\n",
      "Recall:  0.9481085825667327\n"
     ]
    }
   ],
   "source": [
    "plt.figure(figsize=(10,8))\n",
    "\n",
    "xd = range(1,depth_limit+1)\n",
    "\n",
    "plt.plot(xd,np.mean(prec,axis=0),label=\"Precision\")\n",
    "plt.plot(xd,np.mean(recall,axis=0),label=\"Recall\")\n",
    "plt.plot(xd,np.mean(CV_acc,axis=0),label=\"CV Accuracy\")\n",
    "\n",
    "\n",
    "plt.xlabel(\"Max Depth\", fontsize=16)\n",
    "plt.ylabel(\"Scores\", fontsize=16)\n",
    "\n",
    "plt.legend(fontsize=16)\n",
    "\n",
    "plt.show()\n",
    "\n",
    "#prec_guard = 0.8\n",
    "prec_mean = np.mean(prec,axis=0)\n",
    "#prec2 = prec_mean\n",
    "rec2 = np.mean(recall,axis=0)\n",
    "\n",
    "print(xd)\n",
    "#print(prec)\n",
    "\n",
    "\n",
    "#Find Highest recall with precision greater than guardrail value\n",
    "\n",
    "#print(rec2)\n",
    "print(np.argmax(prec_mean))\n",
    "\n",
    "am = np.argmax(prec_mean)\n",
    "\n",
    "print(\"Precision: \",prec_mean[am])\n",
    "print(\"Recall: \",np.mean(recall,axis=0)[am])\n",
    "\n",
    "#l = np.argmax(rec2)\n",
    "#cot = xd[np.mean(prec,axis=0)>prec_guard]\n",
    "\n",
    "#print(\"Our optimal cutoff at\",np.round(xd[l],2),\"gives is a recall of \",np.round(rec2[l],2),\n",
    "  #    \"with a precision of\",np.round(prec2[l],2))\n"
   ]
  },
  {
   "cell_type": "code",
   "execution_count": null,
   "id": "b097e949",
   "metadata": {},
   "outputs": [],
   "source": [
    "lpdf.head()"
   ]
  },
  {
   "cell_type": "markdown",
   "id": "98751ff5",
   "metadata": {},
   "source": [
    "## $k$-Nearest Neighbors\n"
   ]
  },
  {
   "cell_type": "code",
   "execution_count": 21,
   "id": "c4688de4",
   "metadata": {},
   "outputs": [],
   "source": [
    "from sklearn.neighbors import KNeighborsClassifier"
   ]
  },
  {
   "cell_type": "code",
   "execution_count": 22,
   "id": "88d958e9",
   "metadata": {},
   "outputs": [
    {
     "name": "stdout",
     "output_type": "stream",
     "text": [
      "Now training fold 1 of 10\n",
      "Fitting with  1 neighbors\n",
      "Fitting with  2 neighbors\n",
      "Fitting with  3 neighbors\n",
      "Fitting with  4 neighbors\n",
      "Fitting with  5 neighbors\n",
      "Fitting with  6 neighbors\n",
      "Fitting with  7 neighbors\n",
      "Fitting with  8 neighbors\n",
      "Fitting with  9 neighbors\n",
      "Fitting with  10 neighbors\n",
      "Fitting with  11 neighbors\n",
      "Fitting with  12 neighbors\n",
      "Fitting with  13 neighbors\n",
      "Fitting with  14 neighbors\n",
      "Fitting with  15 neighbors\n",
      "Fitting with  16 neighbors\n",
      "Fitting with  17 neighbors\n",
      "Fitting with  18 neighbors\n",
      "Fitting with  19 neighbors\n",
      "Now training fold 2 of 10\n",
      "Fitting with  1 neighbors\n",
      "Fitting with  2 neighbors\n",
      "Fitting with  3 neighbors\n",
      "Fitting with  4 neighbors\n",
      "Fitting with  5 neighbors\n",
      "Fitting with  6 neighbors\n",
      "Fitting with  7 neighbors\n",
      "Fitting with  8 neighbors\n",
      "Fitting with  9 neighbors\n",
      "Fitting with  10 neighbors\n",
      "Fitting with  11 neighbors\n",
      "Fitting with  12 neighbors\n",
      "Fitting with  13 neighbors\n",
      "Fitting with  14 neighbors\n",
      "Fitting with  15 neighbors\n",
      "Fitting with  16 neighbors\n",
      "Fitting with  17 neighbors\n",
      "Fitting with  18 neighbors\n",
      "Fitting with  19 neighbors\n",
      "Now training fold 3 of 10\n",
      "Fitting with  1 neighbors\n",
      "Fitting with  2 neighbors\n",
      "Fitting with  3 neighbors\n",
      "Fitting with  4 neighbors\n",
      "Fitting with  5 neighbors\n",
      "Fitting with  6 neighbors\n",
      "Fitting with  7 neighbors\n",
      "Fitting with  8 neighbors\n",
      "Fitting with  9 neighbors\n",
      "Fitting with  10 neighbors\n",
      "Fitting with  11 neighbors\n",
      "Fitting with  12 neighbors\n",
      "Fitting with  13 neighbors\n",
      "Fitting with  14 neighbors\n",
      "Fitting with  15 neighbors\n",
      "Fitting with  16 neighbors\n",
      "Fitting with  17 neighbors\n",
      "Fitting with  18 neighbors\n",
      "Fitting with  19 neighbors\n",
      "Now training fold 4 of 10\n",
      "Fitting with  1 neighbors\n",
      "Fitting with  2 neighbors\n",
      "Fitting with  3 neighbors\n",
      "Fitting with  4 neighbors\n",
      "Fitting with  5 neighbors\n",
      "Fitting with  6 neighbors\n",
      "Fitting with  7 neighbors\n",
      "Fitting with  8 neighbors\n",
      "Fitting with  9 neighbors\n",
      "Fitting with  10 neighbors\n",
      "Fitting with  11 neighbors\n",
      "Fitting with  12 neighbors\n",
      "Fitting with  13 neighbors\n",
      "Fitting with  14 neighbors\n",
      "Fitting with  15 neighbors\n",
      "Fitting with  16 neighbors\n",
      "Fitting with  17 neighbors\n",
      "Fitting with  18 neighbors\n",
      "Fitting with  19 neighbors\n",
      "Now training fold 5 of 10\n",
      "Fitting with  1 neighbors\n",
      "Fitting with  2 neighbors\n",
      "Fitting with  3 neighbors\n",
      "Fitting with  4 neighbors\n",
      "Fitting with  5 neighbors\n",
      "Fitting with  6 neighbors\n",
      "Fitting with  7 neighbors\n",
      "Fitting with  8 neighbors\n",
      "Fitting with  9 neighbors\n",
      "Fitting with  10 neighbors\n",
      "Fitting with  11 neighbors\n",
      "Fitting with  12 neighbors\n",
      "Fitting with  13 neighbors\n",
      "Fitting with  14 neighbors\n",
      "Fitting with  15 neighbors\n",
      "Fitting with  16 neighbors\n",
      "Fitting with  17 neighbors\n",
      "Fitting with  18 neighbors\n",
      "Fitting with  19 neighbors\n",
      "Now training fold 6 of 10\n",
      "Fitting with  1 neighbors\n",
      "Fitting with  2 neighbors\n",
      "Fitting with  3 neighbors\n",
      "Fitting with  4 neighbors\n",
      "Fitting with  5 neighbors\n",
      "Fitting with  6 neighbors\n",
      "Fitting with  7 neighbors\n",
      "Fitting with  8 neighbors\n",
      "Fitting with  9 neighbors\n",
      "Fitting with  10 neighbors\n",
      "Fitting with  11 neighbors\n",
      "Fitting with  12 neighbors\n",
      "Fitting with  13 neighbors\n",
      "Fitting with  14 neighbors\n",
      "Fitting with  15 neighbors\n",
      "Fitting with  16 neighbors\n",
      "Fitting with  17 neighbors\n",
      "Fitting with  18 neighbors\n",
      "Fitting with  19 neighbors\n",
      "Now training fold 7 of 10\n",
      "Fitting with  1 neighbors\n",
      "Fitting with  2 neighbors\n",
      "Fitting with  3 neighbors\n",
      "Fitting with  4 neighbors\n",
      "Fitting with  5 neighbors\n",
      "Fitting with  6 neighbors\n",
      "Fitting with  7 neighbors\n",
      "Fitting with  8 neighbors\n",
      "Fitting with  9 neighbors\n",
      "Fitting with  10 neighbors\n",
      "Fitting with  11 neighbors\n",
      "Fitting with  12 neighbors\n",
      "Fitting with  13 neighbors\n",
      "Fitting with  14 neighbors\n",
      "Fitting with  15 neighbors\n",
      "Fitting with  16 neighbors\n",
      "Fitting with  17 neighbors\n",
      "Fitting with  18 neighbors\n",
      "Fitting with  19 neighbors\n",
      "Now training fold 8 of 10\n",
      "Fitting with  1 neighbors\n",
      "Fitting with  2 neighbors\n",
      "Fitting with  3 neighbors\n",
      "Fitting with  4 neighbors\n",
      "Fitting with  5 neighbors\n",
      "Fitting with  6 neighbors\n",
      "Fitting with  7 neighbors\n",
      "Fitting with  8 neighbors\n",
      "Fitting with  9 neighbors\n",
      "Fitting with  10 neighbors\n",
      "Fitting with  11 neighbors\n",
      "Fitting with  12 neighbors\n",
      "Fitting with  13 neighbors\n",
      "Fitting with  14 neighbors\n",
      "Fitting with  15 neighbors\n",
      "Fitting with  16 neighbors\n",
      "Fitting with  17 neighbors\n",
      "Fitting with  18 neighbors\n",
      "Fitting with  19 neighbors\n",
      "Now training fold 9 of 10\n",
      "Fitting with  1 neighbors\n",
      "Fitting with  2 neighbors\n",
      "Fitting with  3 neighbors\n",
      "Fitting with  4 neighbors\n",
      "Fitting with  5 neighbors\n",
      "Fitting with  6 neighbors\n",
      "Fitting with  7 neighbors\n",
      "Fitting with  8 neighbors\n",
      "Fitting with  9 neighbors\n",
      "Fitting with  10 neighbors\n",
      "Fitting with  11 neighbors\n",
      "Fitting with  12 neighbors\n",
      "Fitting with  13 neighbors\n",
      "Fitting with  14 neighbors\n",
      "Fitting with  15 neighbors\n",
      "Fitting with  16 neighbors\n",
      "Fitting with  17 neighbors\n",
      "Fitting with  18 neighbors\n",
      "Fitting with  19 neighbors\n",
      "Now training fold 10 of 10\n",
      "Fitting with  1 neighbors\n",
      "Fitting with  2 neighbors\n",
      "Fitting with  3 neighbors\n",
      "Fitting with  4 neighbors\n",
      "Fitting with  5 neighbors\n",
      "Fitting with  6 neighbors\n",
      "Fitting with  7 neighbors\n",
      "Fitting with  8 neighbors\n",
      "Fitting with  9 neighbors\n",
      "Fitting with  10 neighbors\n",
      "Fitting with  11 neighbors\n",
      "Fitting with  12 neighbors\n",
      "Fitting with  13 neighbors\n",
      "Fitting with  14 neighbors\n",
      "Fitting with  15 neighbors\n",
      "Fitting with  16 neighbors\n",
      "Fitting with  17 neighbors\n",
      "Fitting with  18 neighbors\n",
      "Fitting with  19 neighbors\n"
     ]
    }
   ],
   "source": [
    "max_neighbors = 20\n",
    "\n",
    "mn = np.arange(1,max_neighbors,1)\n",
    "\n",
    "accs = np.zeros((f,len(mn)))\n",
    "precs = np.zeros((f,len(mn)))\n",
    "recs = np.zeros((f,len(mn)))\n",
    "f1s = np.zeros((f,len(mn)))\n",
    "\n",
    "## keep track of the train test split\n",
    "j = 0\n",
    "\n",
    "\n",
    "for train_index, test_index in kfold.split(X_train,y_train):\n",
    "    # Get the cv train test split\n",
    "    X_train_train,X_train_test = X_train.iloc[train_index],X_train.iloc[test_index]\n",
    "    y_train_train,y_train_test = y_train.iloc[train_index],y_train.iloc[test_index]\n",
    "    print(\"Now training fold\",j+1,\"of\",f)\n",
    "    for i in range(0,len(mn)):\n",
    "        knn = KNeighborsClassifier(mn[i])\n",
    "        print(\"Fitting with \",mn[i],\"neighbors\")\n",
    "        # fit the model\n",
    "        knn.fit(X_train_train, y_train_train.ravel())\n",
    "        y_pred = knn.predict(X_train_test)\n",
    "        accs[j,i-1] = accuracy_score(y_train_test,y_pred)\n",
    "        precs[j,i-1] = precision_score(y_train_test,y_pred)\n",
    "        recs[j,i-1] = recall_score(y_train_test,y_pred)\n",
    "        \n",
    "    j=j+1"
   ]
  },
  {
   "cell_type": "code",
   "execution_count": 25,
   "id": "e13b7d06",
   "metadata": {},
   "outputs": [
    {
     "data": {
      "image/png": "[encoded data removed]",
      "text/plain": [
       "<Figure size 720x576 with 1 Axes>"
      ]
     },
     "metadata": {
      "needs_background": "light"
     },
     "output_type": "display_data"
    },
    {
     "name": "stdout",
     "output_type": "stream",
     "text": [
      "Precision: [0.8604759  0.78348795 0.8072352  0.78479461 0.82437944 0.79635172\n",
      " 0.80305954 0.78117373 0.79704353 0.78563308 0.80098243 0.79566163\n",
      " 0.80581493 0.79945144 0.8018724  0.79887775 0.80426316 0.79749995\n",
      " 0.78108545]\n",
      "[0.55293206 0.73081742 0.78756508 0.87558169 0.87713827 0.87082716\n",
      " 0.88517565 0.88301532]\n",
      "6\n",
      "Our optimal cutoff at 15 gives is a recall of  0.885 with a precision of 0.802\n",
      "Depth:  [ 1  2  3  4  5  6  7  8  9 10 11 12 13 14 15 16 17 18 19]\n",
      "Precision:  [0.8604759  0.78348795 0.8072352  0.78479461 0.82437944 0.79635172\n",
      " 0.80305954 0.78117373 0.79704353 0.78563308 0.80098243 0.79566163\n",
      " 0.80581493 0.79945144 0.8018724  0.79887775 0.80426316 0.79749995\n",
      " 0.78108545]\n",
      "Recall:  [0.55293206 0.82039244 0.73081742 0.86068165 0.78756508 0.88561006\n",
      " 0.87558169 0.9215478  0.8879248  0.91515911 0.87713827 0.89524274\n",
      " 0.87082716 0.8887457  0.88517565 0.89435244 0.88301532 0.89440637\n",
      " 0.7393584 ]\n"
     ]
    }
   ],
   "source": [
    "plt.figure(figsize=(10,8))\n",
    "\n",
    "plt.plot(mn,np.mean(accs,axis=0),label=\"Accuracy\")\n",
    "plt.plot(mn,np.mean(precs,axis=0),label=\"Precision\")\n",
    "plt.plot(mn,np.mean(recs,axis=0),label=\"Recall\")\n",
    "#plt.plot(cutoffs,np.mean(f1s,axis=0),label=\"F1 Score\")\n",
    "\n",
    "\n",
    "plt.xlabel(\"Max Depth\", fontsize=16)\n",
    "plt.ylabel(\"Mean CV Score\", fontsize=16)\n",
    "\n",
    "plt.legend(fontsize=16)\n",
    "\n",
    "\n",
    "plt.xlabel(\"Max Depth\", fontsize=16)\n",
    "plt.ylabel(\"Mean CV Accuracy\", fontsize=16)\n",
    "plt.savefig(\"LukePayer_kNN.jpg\")\n",
    "plt.show()\n",
    "\n",
    "prec_guard = 0.8\n",
    "prec = np.mean(precs,axis=0)\n",
    "rec = np.mean(recs,axis=0)\n",
    "\n",
    "prec2 = prec[prec>prec_guard]\n",
    "rec2 = rec[prec>prec_guard]\n",
    "\n",
    "#print(cutoffs[prec>prec_guard])\n",
    "print(\"Precision:\", prec)\n",
    "\n",
    "\n",
    "#Find Highest recall with precision greater than guardrail value\n",
    "\n",
    "print(rec2)\n",
    "print(np.argmax(rec2))\n",
    "\n",
    "l = np.argmax(rec2)\n",
    "cot = mn[prec>prec_guard]\n",
    "\n",
    "print(\"Our optimal cutoff at\",np.round(cot[l],3),\"gives is a recall of \",np.round(rec2[l],3),\n",
    "      \"with a precision of\",np.round(prec2[l],3))\n",
    "\n",
    "\n",
    "print(\"Depth: \",mn) \n",
    "print(\"Precision: \",prec)\n",
    "print(\"Recall: \",rec)"
   ]
  },
  {
   "cell_type": "code",
   "execution_count": null,
   "id": "7f267926",
   "metadata": {},
   "outputs": [],
   "source": []
  },
  {
   "cell_type": "code",
   "execution_count": null,
   "id": "a8d628d5",
   "metadata": {},
   "outputs": [],
   "source": [
    "lpdf = lpdf.append(pd.DataFrame([['kNN',\n",
    "                                 np.round(prec2[l],3),\n",
    "                                 np.round(rec2[l],3)]],\n",
    "                               columns=lpcl))"
   ]
  }
 ],
 "metadata": {
  "kernelspec": {
   "display_name": "Python 3",
   "language": "python",
   "name": "python3"
  },
  "language_info": {
   "codemirror_mode": {
    "name": "ipython",
    "version": 3
   },
   "file_extension": ".py",
   "mimetype": "text/x-python",
   "name": "python",
   "nbconvert_exporter": "python",
   "pygments_lexer": "ipython3",
   "version": "3.8.5"
  }
 },
 "nbformat": 4,
 "nbformat_minor": 5
}
