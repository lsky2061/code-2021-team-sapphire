{
 "cells": [
  {
   "cell_type": "markdown",
   "id": "1706cd15",
   "metadata": {},
   "source": [
    "# Tracking Document for Team Sapphire"
   ]
  },
  {
   "cell_type": "markdown",
   "id": "47c662f5",
   "metadata": {},
   "source": [
    "Luke will take Payer 417614.Yiming will take payer 417380"
   ]
  },
  {
   "cell_type": "code",
   "execution_count": null,
   "id": "7533700b",
   "metadata": {},
   "outputs": [],
   "source": []
  }
 ],
 "metadata": {
  "kernelspec": {
   "display_name": "Python 3",
   "language": "python",
   "name": "python3"
  },
  "language_info": {
   "codemirror_mode": {
    "name": "ipython",
    "version": 3
   },
   "file_extension": ".py",
   "mimetype": "text/x-python",
   "name": "python",
   "nbconvert_exporter": "python",
   "pygments_lexer": "ipython3",
   "version": "3.8.5"
  }
 },
 "nbformat": 4,
 "nbformat_minor": 5
}
