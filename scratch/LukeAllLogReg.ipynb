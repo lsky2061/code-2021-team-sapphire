{
 "cells": [
  {
   "cell_type": "code",
   "execution_count": 1,
   "id": "c58003d2",
   "metadata": {},
   "outputs": [],
   "source": [
    "import pandas as pd\n",
    "import numpy as np\n",
    "import seaborn as sn\n",
    "import matplotlib.pyplot as plt\n",
    "\n",
    "from sklearn.model_selection import train_test_split"
   ]
  },
  {
   "cell_type": "markdown",
   "id": "f5f7c04b",
   "metadata": {},
   "source": [
    "Import the data from the different file provided by CoverMyMeds, then merge them into a single data set."
   ]
  },
  {
   "cell_type": "code",
   "execution_count": 2,
   "id": "e6929c3b",
   "metadata": {},
   "outputs": [],
   "source": [
    "bridge = pd.read_csv(\"../data/bridge.csv\")\n",
    "dim_claims = pd.read_csv(\"../data/dim_claims.csv\")\n",
    "dim_pa = pd.read_csv(\"../data/dim_pa.csv\")"
   ]
  },
  {
   "cell_type": "code",
   "execution_count": 3,
   "id": "e478cdbf",
   "metadata": {},
   "outputs": [],
   "source": [
    "df2 = bridge.merge(dim_claims, on='dim_claim_id', how='left').copy()\n",
    "df4 = df2.merge(dim_pa, on='dim_pa_id', how='left').copy()"
   ]
  },
  {
   "cell_type": "code",
   "execution_count": 4,
   "id": "d7d75912",
   "metadata": {},
   "outputs": [],
   "source": [
    "df4 = df4.fillna(-1) #Replace N/A with -1 for easier processing later"
   ]
  },
  {
   "cell_type": "markdown",
   "id": "cf4f1a70",
   "metadata": {},
   "source": [
    "Now, we select on those rows where the claim was not approved and thus a PA is needed. We are predicting whether the PA will be approved, so that becomes our $y$. We divide into training and test data sets."
   ]
  },
  {
   "cell_type": "code",
   "execution_count": 5,
   "id": "362fbedf",
   "metadata": {},
   "outputs": [],
   "source": [
    "pa = df4[df4.pharmacy_claim_approved == 0].copy()\n",
    "y = pa['pa_approved']\n",
    "\n",
    "X_train,X_test,y_train,y_test = train_test_split(pa,y,\n",
    "                                                 test_size = .25,\n",
    "                                                 random_state = 614,\n",
    "                                                 shuffle = True,\n",
    "                                                 stratify = y)\n"
   ]
  },
  {
   "cell_type": "code",
   "execution_count": 6,
   "id": "a319786b",
   "metadata": {},
   "outputs": [
    {
     "name": "stderr",
     "output_type": "stream",
     "text": [
      "/home/luke/.local/lib/python3.8/site-packages/pandas/core/indexing.py:1596: SettingWithCopyWarning: \n",
      "A value is trying to be set on a copy of a slice from a DataFrame.\n",
      "Try using .loc[row_indexer,col_indexer] = value instead\n",
      "\n",
      "See the caveats in the documentation: https://pandas.pydata.org/pandas-docs/stable/user_guide/indexing.html#returning-a-view-versus-a-copy\n",
      "  self.obj[key] = value\n",
      "/home/luke/.local/lib/python3.8/site-packages/pandas/core/indexing.py:1675: SettingWithCopyWarning: \n",
      "A value is trying to be set on a copy of a slice from a DataFrame.\n",
      "Try using .loc[row_indexer,col_indexer] = value instead\n",
      "\n",
      "See the caveats in the documentation: https://pandas.pydata.org/pandas-docs/stable/user_guide/indexing.html#returning-a-view-versus-a-copy\n",
      "  self._setitem_single_column(ilocs[0], value, pi)\n"
     ]
    }
   ],
   "source": [
    "#Hot Code Rejection Codes\n",
    "\n",
    "rcd = pd.get_dummies(X_train['reject_code'])\n",
    "X_train.loc[:,'not_in_formulary'] = pd.get_dummies(X_train['reject_code'])[70.0]\n",
    "X_train.loc[:,'limit_exceeded'] = pd.get_dummies(X_train['reject_code'])[76.0]\n",
    "\n",
    "\n",
    "        \n"
   ]
  },
  {
   "cell_type": "code",
   "execution_count": 7,
   "id": "7299eee1",
   "metadata": {},
   "outputs": [],
   "source": [
    "#Hot Code drugs\n",
    "\n",
    "X_train.loc[:,'Drug A']=pd.get_dummies(X_train['drug'])['A']\n",
    "X_train.loc[:,'Drug B']=pd.get_dummies(X_train['drug'])['B']\n",
    "\n"
   ]
  },
  {
   "cell_type": "code",
   "execution_count": 8,
   "id": "a5c92af1",
   "metadata": {},
   "outputs": [
    {
     "name": "stdout",
     "output_type": "stream",
     "text": [
      "417380\n",
      "417740\n",
      "417614\n"
     ]
    }
   ],
   "source": [
    "#Hot Code Payers. We leave out 999001; that will correspond to zeros in the three columns we create.\n",
    "\n",
    "payers = X_train['bin'].unique()\n",
    "\n",
    "for payer in payers:\n",
    "    if(payer != 999001): \n",
    "        print(payer)\n",
    "        X_train.loc[:,payer] = pd.get_dummies(X_train['bin'])[payer]"
   ]
  },
  {
   "cell_type": "markdown",
   "id": "14bf3e88",
   "metadata": {},
   "source": [
    "Import necessary packages for running logistic regression and calculating performance metrics."
   ]
  },
  {
   "cell_type": "code",
   "execution_count": 9,
   "id": "23eebdef",
   "metadata": {},
   "outputs": [],
   "source": [
    "from sklearn.linear_model import LogisticRegression\n",
    "from sklearn.metrics import accuracy_score\n",
    "from sklearn.metrics import precision_score\n",
    "from sklearn.metrics import recall_score\n",
    "from sklearn.metrics import f1_score\n",
    "# import cross-validation\n",
    "from sklearn.model_selection import StratifiedKFold\n",
    "from sklearn.base import clone"
   ]
  },
  {
   "cell_type": "markdown",
   "id": "7e3ad72f",
   "metadata": {},
   "source": [
    "Select on the features on which we are regressing."
   ]
  },
  {
   "cell_type": "code",
   "execution_count": 11,
   "id": "147d248f",
   "metadata": {},
   "outputs": [],
   "source": [
    "features = ['correct_diagnosis','tried_and_failed','contraindication',\n",
    "           'not_in_formulary','limit_exceeded','Drug A','Drug B',417380, 417740, 417614]\n",
    "X_train = X_train[features] \n"
   ]
  },
  {
   "cell_type": "markdown",
   "id": "e99adfc2",
   "metadata": {},
   "source": [
    "We will perform 10-fold cross validation"
   ]
  },
  {
   "cell_type": "code",
   "execution_count": 12,
   "id": "242efa16",
   "metadata": {},
   "outputs": [],
   "source": [
    "f=10\n",
    "kfold = StratifiedKFold(f,shuffle=True,random_state=440)"
   ]
  },
  {
   "cell_type": "code",
   "execution_count": null,
   "id": "3b9c41fb",
   "metadata": {},
   "outputs": [],
   "source": [
    "cutoffs = np.arange(0.0,1.0,.02)\n",
    "z=0\n",
    "\n",
    "accs = np.zeros((f,len(cutoffs)))\n",
    "precs = np.zeros((f,len(cutoffs)))\n",
    "recs = np.zeros((f,len(cutoffs)))\n",
    "f1s = np.zeros((f,len(cutoffs)))\n",
    "\n",
    "log_reg = LogisticRegression()\n",
    "\n",
    "\n",
    "#y_prob = log_reg.predict_proba(X_train[features])[:,1] #Probability of Approval\n",
    "fold = 0\n",
    "\n",
    "for train_index,test_index in kfold.split(X_train,y_train):\n",
    "    #print(train_index)\n",
    "    #print(test_index)\n",
    "    y_train_train,y_train_test = y_train.iloc[train_index],y_train.iloc[test_index]\n",
    "    X_train_train =X_train.iloc[train_index]\n",
    "    X_train_test = X_train.iloc[test_index]\n",
    "    print(\"Now training fold\",fold+1,\"of\",f)\n",
    "\n",
    "    for j in range(len(cutoffs)):\n",
    "        log_reg_clone = clone(log_reg)\n",
    "        log_reg_clone.fit(X_train_train,y_train_train)\n",
    "        probs = log_reg_clone.predict_proba(X_train_test)[:,1]\n",
    "        \n",
    "        y_pred = 1*(probs > cutoffs[j])\n",
    "        accs[fold,j] = accuracy_score(y_train_test,y_pred)\n",
    "        precs[fold,j] = precision_score(y_train_test,y_pred,zero_division=z)\n",
    "        recs[fold,j] = recall_score(y_train_test,y_pred,zero_division=z)\n",
    "        f1s[fold,j] = f1_score(y_train_test,y_pred,zero_division=z)\n",
    "    fold=fold+1\n",
    "\n",
    "print(\"Training Done!\")"
   ]
  },
  {
   "cell_type": "code",
   "execution_count": null,
   "id": "af275d92",
   "metadata": {},
   "outputs": [],
   "source": [
    "prec_guard = 0.8\n",
    "prec = np.mean(precs,axis=0)\n",
    "rec = np.mean(recs,axis=0)\n",
    "\n",
    "prec2 = prec[prec>prec_guard]\n",
    "rec2 = rec[prec>prec_guard]\n",
    "\n",
    "\n",
    "print(cutoffs[prec>prec_guard])\n",
    "\n",
    "\n",
    "#Find Highest recall with precision greater than guardrail value\n",
    "\n",
    "print(rec2)\n",
    "print(np.argmax(rec2))\n",
    "\n",
    "l = np.argmax(rec2)\n",
    "cot = cutoffs[prec>prec_guard]\n",
    "\n",
    "print(\"Our optimal cutoff at\",np.round(cot[l],2),\"gives is a recall of \",np.round(rec2[l],2),\n",
    "      \"with a precision of\",np.round(prec2[l],2))\n",
    "\n",
    "\n",
    "plt.figure(figsize=(10,8))\n",
    "\n",
    "plt.plot(cutoffs,np.mean(accs,axis=0),'o-',label=\"Accuracy\")\n",
    "plt.plot(cutoffs,np.mean(precs,axis=0),'o-',label=\"Precision\")\n",
    "plt.plot(cutoffs,np.mean(recs,axis=0),'o-',label=\"Recall\")\n",
    "plt.plot(cutoffs,np.mean(f1s,axis=0),'o-',label=\"F1 Score\")\n",
    "\n",
    "\n",
    "plt.xlabel(\"Cutoff\", fontsize=26)\n",
    "plt.ylabel(\"Metric\", fontsize=26)\n",
    "\n",
    "plt.legend(fontsize=20)\n",
    "\n",
    "plt.rc('xtick', labelsize=20) \n",
    "plt.rc('ytick', labelsize=20) \n",
    "plt.hlines(y=0.8,xmin=0.0,xmax=1.0,color='black',linestyles='dashed')\n",
    "plt.vlines(x=cot[l],ymin=0.3,ymax=1.0,color='gray',linestyles='dashed')\n",
    "\n",
    "\n",
    "plt.savefig(\"AllLogReg.jpg\")\n",
    "plt.show()\n",
    "\n",
    "\n"
   ]
  },
  {
   "cell_type": "markdown",
   "id": "0cdfabe9",
   "metadata": {},
   "source": [
    "## Retrain on entire training set and Pickle"
   ]
  },
  {
   "cell_type": "code",
   "execution_count": null,
   "id": "f0638429",
   "metadata": {},
   "outputs": [],
   "source": [
    "import pickle\n"
   ]
  },
  {
   "cell_type": "code",
   "execution_count": null,
   "id": "119b01d7",
   "metadata": {},
   "outputs": [],
   "source": [
    "log_reg_train = LogisticRegression()\n",
    "log_reg_train.fit(X_train,y_train)\n",
    "\n",
    "\n",
    "\n"
   ]
  },
  {
   "cell_type": "code",
   "execution_count": null,
   "id": "4f666a79",
   "metadata": {},
   "outputs": [],
   "source": [
    "#Pickle!\n",
    "\n",
    "outfile = open('log_reg.pcl','wb')\n",
    "pickle.dump(log_reg_train,outfile)\n",
    "outfile.close()"
   ]
  },
  {
   "cell_type": "code",
   "execution_count": null,
   "id": "4bfc1597",
   "metadata": {},
   "outputs": [],
   "source": [
    "#log_reg_clone.predict_proba(X_train_test)[:,1]\n",
    "\n",
    "X_train_test.head()\n",
    "\n",
    "print(features)\n"
   ]
  },
  {
   "cell_type": "code",
   "execution_count": null,
   "id": "93e97c1e",
   "metadata": {},
   "outputs": [],
   "source": []
  }
 ],
 "metadata": {
  "kernelspec": {
   "display_name": "Python 3",
   "language": "python",
   "name": "python3"
  },
  "language_info": {
   "codemirror_mode": {
    "name": "ipython",
    "version": 3
   },
   "file_extension": ".py",
   "mimetype": "text/x-python",
   "name": "python",
   "nbconvert_exporter": "python",
   "pygments_lexer": "ipython3",
   "version": "3.8.5"
  }
 },
 "nbformat": 4,
 "nbformat_minor": 5
}
