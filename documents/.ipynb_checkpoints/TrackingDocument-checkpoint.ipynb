{
 "cells": [
  {
   "cell_type": "markdown",
   "metadata": {},
   "source": [
    "# Tracking Document for Team Sapphire"
   ]
  },
  {
   "cell_type": "markdown",
   "metadata": {},
   "source": [
    "Luke will take Payer 417614.Yiming will take payer 417380"
   ]
  },
  {
   "cell_type": "markdown",
   "metadata": {},
   "source": [
    "We are going to look at Covermymeds data to find trends that can help us answer the following questions:\n",
    "1. Predict if a particular payer would approve a drug and whether a PA will be required\n",
    "2. If a PA is required which features on the PA claim (Correct diagnosis, Tried and failed, Contraindication) help get the PA approved?\n",
    "3. Is there a particular time of the year where submitting a PA would increase chances of approval?\n",
    "\n",
    "For the first two questions, we are going to separate the dataset into four parts based on payer. Each group member is going to focus on a particular payer and optimize prediction algorithm using classification techniques. \n",
    "\n",
    "For the third question, we are going to look at overall PA time trends and see if any important insight can be derived for the patients as well as for the payers."
   ]
  },
  {
   "cell_type": "markdown",
   "metadata": {},
   "source": [
    "The distribution of work will be as follows:\n",
    "\n",
    "Temporal trend analysis: Jon\n",
    "\n",
    "PA approval Prediction:  Payer 417614: Luke; Payer 417380: Yiming; Payer 417740: Prerna; Payer 999001: Katherine\n",
    "        "
   ]
  },
  {
   "cell_type": "code",
   "execution_count": null,
   "metadata": {},
   "outputs": [],
   "source": []
  }
 ],
 "metadata": {
  "kernelspec": {
   "display_name": "Python 3",
   "language": "python",
   "name": "python3"
  },
  "language_info": {
   "codemirror_mode": {
    "name": "ipython",
    "version": 3
   },
   "file_extension": ".py",
   "mimetype": "text/x-python",
   "name": "python",
   "nbconvert_exporter": "python",
   "pygments_lexer": "ipython3",
   "version": "3.8.3"
  }
 },
 "nbformat": 4,
 "nbformat_minor": 5
}
