{
 "cells": [
  {
   "cell_type": "code",
   "execution_count": 54,
   "metadata": {},
   "outputs": [],
   "source": [
    "import pandas as pd\n",
    "import numpy as np\n",
    "import matplotlib.pyplot as plt\n",
    "import seaborn as sns"
   ]
  },
  {
   "cell_type": "code",
   "execution_count": 55,
   "metadata": {},
   "outputs": [],
   "source": [
    "claims = pd.read_csv('dim_claims.csv')\n",
    "pa = pd.read_csv('dim_pa.csv')\n",
    "bridge = pd.read_csv('bridge.csv')"
   ]
  },
  {
   "cell_type": "code",
   "execution_count": 56,
   "metadata": {},
   "outputs": [
    {
     "data": {
      "text/html": [
       "<div>\n",
       "<style scoped>\n",
       "    .dataframe tbody tr th:only-of-type {\n",
       "        vertical-align: middle;\n",
       "    }\n",
       "\n",
       "    .dataframe tbody tr th {\n",
       "        vertical-align: top;\n",
       "    }\n",
       "\n",
       "    .dataframe thead th {\n",
       "        text-align: right;\n",
       "    }\n",
       "</style>\n",
       "<table border=\"1\" class=\"dataframe\">\n",
       "  <thead>\n",
       "    <tr style=\"text-align: right;\">\n",
       "      <th></th>\n",
       "      <th>dim_pa_id</th>\n",
       "      <th>correct_diagnosis</th>\n",
       "      <th>tried_and_failed</th>\n",
       "      <th>contraindication</th>\n",
       "      <th>pa_approved</th>\n",
       "    </tr>\n",
       "  </thead>\n",
       "  <tbody>\n",
       "    <tr>\n",
       "      <th>0</th>\n",
       "      <td>1</td>\n",
       "      <td>1</td>\n",
       "      <td>1</td>\n",
       "      <td>0</td>\n",
       "      <td>1</td>\n",
       "    </tr>\n",
       "    <tr>\n",
       "      <th>1</th>\n",
       "      <td>2</td>\n",
       "      <td>1</td>\n",
       "      <td>0</td>\n",
       "      <td>0</td>\n",
       "      <td>1</td>\n",
       "    </tr>\n",
       "    <tr>\n",
       "      <th>2</th>\n",
       "      <td>3</td>\n",
       "      <td>0</td>\n",
       "      <td>0</td>\n",
       "      <td>1</td>\n",
       "      <td>1</td>\n",
       "    </tr>\n",
       "    <tr>\n",
       "      <th>3</th>\n",
       "      <td>4</td>\n",
       "      <td>1</td>\n",
       "      <td>1</td>\n",
       "      <td>0</td>\n",
       "      <td>1</td>\n",
       "    </tr>\n",
       "    <tr>\n",
       "      <th>4</th>\n",
       "      <td>5</td>\n",
       "      <td>0</td>\n",
       "      <td>1</td>\n",
       "      <td>0</td>\n",
       "      <td>1</td>\n",
       "    </tr>\n",
       "  </tbody>\n",
       "</table>\n",
       "</div>"
      ],
      "text/plain": [
       "   dim_pa_id  correct_diagnosis  tried_and_failed  contraindication  \\\n",
       "0          1                  1                 1                 0   \n",
       "1          2                  1                 0                 0   \n",
       "2          3                  0                 0                 1   \n",
       "3          4                  1                 1                 0   \n",
       "4          5                  0                 1                 0   \n",
       "\n",
       "   pa_approved  \n",
       "0            1  \n",
       "1            1  \n",
       "2            1  \n",
       "3            1  \n",
       "4            1  "
      ]
     },
     "execution_count": 56,
     "metadata": {},
     "output_type": "execute_result"
    }
   ],
   "source": [
    "pa.head()"
   ]
  },
  {
   "cell_type": "code",
   "execution_count": 57,
   "metadata": {},
   "outputs": [
    {
     "data": {
      "text/html": [
       "<div>\n",
       "<style scoped>\n",
       "    .dataframe tbody tr th:only-of-type {\n",
       "        vertical-align: middle;\n",
       "    }\n",
       "\n",
       "    .dataframe tbody tr th {\n",
       "        vertical-align: top;\n",
       "    }\n",
       "\n",
       "    .dataframe thead th {\n",
       "        text-align: right;\n",
       "    }\n",
       "</style>\n",
       "<table border=\"1\" class=\"dataframe\">\n",
       "  <thead>\n",
       "    <tr style=\"text-align: right;\">\n",
       "      <th></th>\n",
       "      <th>dim_claim_id</th>\n",
       "      <th>bin</th>\n",
       "      <th>drug</th>\n",
       "      <th>reject_code</th>\n",
       "      <th>pharmacy_claim_approved</th>\n",
       "    </tr>\n",
       "  </thead>\n",
       "  <tbody>\n",
       "    <tr>\n",
       "      <th>2</th>\n",
       "      <td>3</td>\n",
       "      <td>417740</td>\n",
       "      <td>A</td>\n",
       "      <td>76.0</td>\n",
       "      <td>0</td>\n",
       "    </tr>\n",
       "    <tr>\n",
       "      <th>4</th>\n",
       "      <td>5</td>\n",
       "      <td>417740</td>\n",
       "      <td>A</td>\n",
       "      <td>NaN</td>\n",
       "      <td>1</td>\n",
       "    </tr>\n",
       "    <tr>\n",
       "      <th>5</th>\n",
       "      <td>6</td>\n",
       "      <td>417740</td>\n",
       "      <td>A</td>\n",
       "      <td>NaN</td>\n",
       "      <td>1</td>\n",
       "    </tr>\n",
       "    <tr>\n",
       "      <th>7</th>\n",
       "      <td>8</td>\n",
       "      <td>417740</td>\n",
       "      <td>A</td>\n",
       "      <td>NaN</td>\n",
       "      <td>1</td>\n",
       "    </tr>\n",
       "    <tr>\n",
       "      <th>32</th>\n",
       "      <td>33</td>\n",
       "      <td>417740</td>\n",
       "      <td>A</td>\n",
       "      <td>76.0</td>\n",
       "      <td>0</td>\n",
       "    </tr>\n",
       "  </tbody>\n",
       "</table>\n",
       "</div>"
      ],
      "text/plain": [
       "    dim_claim_id     bin drug  reject_code  pharmacy_claim_approved\n",
       "2              3  417740    A         76.0                        0\n",
       "4              5  417740    A          NaN                        1\n",
       "5              6  417740    A          NaN                        1\n",
       "7              8  417740    A          NaN                        1\n",
       "32            33  417740    A         76.0                        0"
      ]
     },
     "execution_count": 57,
     "metadata": {},
     "output_type": "execute_result"
    }
   ],
   "source": [
    "data_claims = claims[claims['bin']==417740]\n",
    "data_claims.head()"
   ]
  },
  {
   "cell_type": "code",
   "execution_count": 58,
   "metadata": {},
   "outputs": [
    {
     "data": {
      "text/plain": [
       "<seaborn.axisgrid.FacetGrid at 0x1a74742f430>"
      ]
     },
     "execution_count": 58,
     "metadata": {},
     "output_type": "execute_result"
    },
    {
     "data": {
      "image/png": "[encoded data removed]",
      "text/plain": [
       "<Figure size 501.75x360 with 1 Axes>"
      ]
     },
     "metadata": {
      "needs_background": "light"
     },
     "output_type": "display_data"
    }
   ],
   "source": [
    "pa_plot=sns.catplot(x=\"drug\", hue=\"pharmacy_claim_approved\", kind=\"count\",hue_order=[1,0],palette=\"pastel\",data=data_claims)\n",
    "pa_plot.set_axis_labels(\"Drug\",\"Claim count\")"
   ]
  },
  {
   "cell_type": "markdown",
   "metadata": {},
   "source": [
    "This payer does not directly approve drug B and C. Some cases of Drug A also need PA, could be due to limit crossing. Let's look at the rejection codes for each drug."
   ]
  },
  {
   "cell_type": "code",
   "execution_count": 64,
   "metadata": {},
   "outputs": [
    {
     "data": {
      "text/html": [
       "<div>\n",
       "<style scoped>\n",
       "    .dataframe tbody tr th:only-of-type {\n",
       "        vertical-align: middle;\n",
       "    }\n",
       "\n",
       "    .dataframe tbody tr th {\n",
       "        vertical-align: top;\n",
       "    }\n",
       "\n",
       "    .dataframe thead th {\n",
       "        text-align: right;\n",
       "    }\n",
       "</style>\n",
       "<table border=\"1\" class=\"dataframe\">\n",
       "  <thead>\n",
       "    <tr style=\"text-align: right;\">\n",
       "      <th></th>\n",
       "      <th>dim_claim_id</th>\n",
       "      <th>dim_pa_id</th>\n",
       "      <th>dim_date_id</th>\n",
       "      <th>bin</th>\n",
       "      <th>drug</th>\n",
       "      <th>reject_code</th>\n",
       "      <th>pharmacy_claim_approved</th>\n",
       "      <th>correct_diagnosis</th>\n",
       "      <th>tried_and_failed</th>\n",
       "      <th>contraindication</th>\n",
       "      <th>pa_approved</th>\n",
       "      <th>claim_reason</th>\n",
       "    </tr>\n",
       "  </thead>\n",
       "  <tbody>\n",
       "    <tr>\n",
       "      <th>0</th>\n",
       "      <td>3</td>\n",
       "      <td>2.0</td>\n",
       "      <td>1</td>\n",
       "      <td>417740</td>\n",
       "      <td>A</td>\n",
       "      <td>76.0</td>\n",
       "      <td>0</td>\n",
       "      <td>1</td>\n",
       "      <td>0</td>\n",
       "      <td>0</td>\n",
       "      <td>1</td>\n",
       "      <td>CD</td>\n",
       "    </tr>\n",
       "    <tr>\n",
       "      <th>1</th>\n",
       "      <td>33</td>\n",
       "      <td>16.0</td>\n",
       "      <td>1</td>\n",
       "      <td>417740</td>\n",
       "      <td>A</td>\n",
       "      <td>76.0</td>\n",
       "      <td>0</td>\n",
       "      <td>1</td>\n",
       "      <td>1</td>\n",
       "      <td>1</td>\n",
       "      <td>0</td>\n",
       "      <td>CDTFCI</td>\n",
       "    </tr>\n",
       "    <tr>\n",
       "      <th>2</th>\n",
       "      <td>59</td>\n",
       "      <td>25.0</td>\n",
       "      <td>1</td>\n",
       "      <td>417740</td>\n",
       "      <td>A</td>\n",
       "      <td>76.0</td>\n",
       "      <td>0</td>\n",
       "      <td>1</td>\n",
       "      <td>0</td>\n",
       "      <td>0</td>\n",
       "      <td>1</td>\n",
       "      <td>CD</td>\n",
       "    </tr>\n",
       "    <tr>\n",
       "      <th>3</th>\n",
       "      <td>110</td>\n",
       "      <td>49.0</td>\n",
       "      <td>1</td>\n",
       "      <td>417740</td>\n",
       "      <td>B</td>\n",
       "      <td>70.0</td>\n",
       "      <td>0</td>\n",
       "      <td>1</td>\n",
       "      <td>0</td>\n",
       "      <td>0</td>\n",
       "      <td>0</td>\n",
       "      <td>CD</td>\n",
       "    </tr>\n",
       "    <tr>\n",
       "      <th>4</th>\n",
       "      <td>119</td>\n",
       "      <td>50.0</td>\n",
       "      <td>1</td>\n",
       "      <td>417740</td>\n",
       "      <td>B</td>\n",
       "      <td>70.0</td>\n",
       "      <td>0</td>\n",
       "      <td>1</td>\n",
       "      <td>0</td>\n",
       "      <td>0</td>\n",
       "      <td>0</td>\n",
       "      <td>CD</td>\n",
       "    </tr>\n",
       "  </tbody>\n",
       "</table>\n",
       "</div>"
      ],
      "text/plain": [
       "   dim_claim_id  dim_pa_id  dim_date_id     bin drug  reject_code  \\\n",
       "0             3        2.0            1  417740    A         76.0   \n",
       "1            33       16.0            1  417740    A         76.0   \n",
       "2            59       25.0            1  417740    A         76.0   \n",
       "3           110       49.0            1  417740    B         70.0   \n",
       "4           119       50.0            1  417740    B         70.0   \n",
       "\n",
       "   pharmacy_claim_approved  correct_diagnosis  tried_and_failed  \\\n",
       "0                        0                  1                 0   \n",
       "1                        0                  1                 1   \n",
       "2                        0                  1                 0   \n",
       "3                        0                  1                 0   \n",
       "4                        0                  1                 0   \n",
       "\n",
       "   contraindication  pa_approved claim_reason  \n",
       "0                 0            1           CD  \n",
       "1                 1            0       CDTFCI  \n",
       "2                 0            1           CD  \n",
       "3                 0            0           CD  \n",
       "4                 0            0           CD  "
      ]
     },
     "execution_count": 64,
     "metadata": {},
     "output_type": "execute_result"
    }
   ],
   "source": [
    "data_claims_417740 = pd.merge(bridge,data_claims,on='dim_claim_id')\n",
    "data = pd.merge(data_claims_417740,pa,on='dim_pa_id')\n",
    "conditions = [(data['correct_diagnosis']==1)&(data['tried_and_failed']==0)&(data['contraindication']==0),\n",
    "             (data['correct_diagnosis']==0)&(data['tried_and_failed']==1)&(data['contraindication']==0),\n",
    "             (data['correct_diagnosis']==0)&(data['tried_and_failed']==0)&(data['contraindication']==1),\n",
    "             (data['correct_diagnosis']==1)&(data['tried_and_failed']==1)&(data['contraindication']==0),\n",
    "             (data['correct_diagnosis']==1)&(data['tried_and_failed']==0)&(data['contraindication']==1),\n",
    "             (data['correct_diagnosis']==0)&(data['tried_and_failed']==1)&(data['contraindication']==1),\n",
    "             (data['correct_diagnosis']==1)&(data['tried_and_failed']==1)&(data['contraindication']==1),\n",
    "             (data['correct_diagnosis']==0)&(data['tried_and_failed']==0)&(data['contraindication']==0)]\n",
    "values = ['CD','TF','CI','CDTF','CDCI','TFCI','CDTFCI','None']\n",
    "data['claim_reason'] = np.select(conditions,values)\n",
    "data.head()"
   ]
  },
  {
   "cell_type": "code",
   "execution_count": 65,
   "metadata": {},
   "outputs": [
    {
     "data": {
      "text/plain": [
       "76.0    10817\n",
       "Name: reject_code, dtype: int64"
      ]
     },
     "execution_count": 65,
     "metadata": {},
     "output_type": "execute_result"
    }
   ],
   "source": [
    "data_A = data[data['drug']=='A']\n",
    "data_A['reject_code'].value_counts()"
   ]
  },
  {
   "cell_type": "code",
   "execution_count": 66,
   "metadata": {},
   "outputs": [
    {
     "data": {
      "text/plain": [
       "70.0    55035\n",
       "Name: reject_code, dtype: int64"
      ]
     },
     "execution_count": 66,
     "metadata": {},
     "output_type": "execute_result"
    }
   ],
   "source": [
    "data_B = data[data['drug']=='B']\n",
    "data_B['reject_code'].value_counts()"
   ]
  },
  {
   "cell_type": "code",
   "execution_count": 67,
   "metadata": {},
   "outputs": [
    {
     "data": {
      "text/plain": [
       "75.0    50179\n",
       "Name: reject_code, dtype: int64"
      ]
     },
     "execution_count": 67,
     "metadata": {},
     "output_type": "execute_result"
    }
   ],
   "source": [
    "data_C = data[data['drug']=='C']\n",
    "data_C['reject_code'].value_counts()"
   ]
  },
  {
   "cell_type": "markdown",
   "metadata": {},
   "source": [
    "Drug A rejections are due to limit crossing, drug B rejections are due to drug not being on formulary, drug C rejections are due to a compulsary PA requirement."
   ]
  },
  {
   "cell_type": "code",
   "execution_count": 63,
   "metadata": {
    "scrolled": true
   },
   "outputs": [
    {
     "data": {
      "text/plain": [
       "<seaborn.axisgrid.FacetGrid at 0x1a74ddedf70>"
      ]
     },
     "execution_count": 63,
     "metadata": {},
     "output_type": "execute_result"
    },
    {
     "data": {
      "image/png": "[encoded data removed]",
      "text/plain": [
       "<Figure size 432.25x360 with 1 Axes>"
      ]
     },
     "metadata": {
      "needs_background": "light"
     },
     "output_type": "display_data"
    }
   ],
   "source": [
    "##Looking at PA approvals \n",
    "pa_plot=sns.catplot(x=\"drug\", hue=\"pa_approved\", kind=\"count\",hue_order=[1,0],palette=\"pastel\",data=data)\n",
    "pa_plot.set_axis_labels(\"Drug\",\"PA count\")"
   ]
  },
  {
   "cell_type": "code",
   "execution_count": 68,
   "metadata": {},
   "outputs": [
    {
     "data": {
      "text/plain": [
       "0.9011740778404363"
      ]
     },
     "execution_count": 68,
     "metadata": {},
     "output_type": "execute_result"
    }
   ],
   "source": [
    "data_A['pa_approved'].mean()"
   ]
  },
  {
   "cell_type": "code",
   "execution_count": 69,
   "metadata": {},
   "outputs": [
    {
     "data": {
      "text/plain": [
       "0.38997001907876805"
      ]
     },
     "execution_count": 69,
     "metadata": {},
     "output_type": "execute_result"
    }
   ],
   "source": [
    "data_B['pa_approved'].mean()"
   ]
  },
  {
   "cell_type": "code",
   "execution_count": 70,
   "metadata": {},
   "outputs": [
    {
     "data": {
      "text/plain": [
       "0.8341138723370334"
      ]
     },
     "execution_count": 70,
     "metadata": {},
     "output_type": "execute_result"
    }
   ],
   "source": [
    "data_C['pa_approved'].mean()"
   ]
  },
  {
   "cell_type": "markdown",
   "metadata": {},
   "source": [
    "Looking at pPA features for each drug to see how presence/absence of features affects the approval probability. "
   ]
  },
  {
   "cell_type": "code",
   "execution_count": 71,
   "metadata": {},
   "outputs": [
    {
     "name": "stdout",
     "output_type": "stream",
     "text": [
      "Approval rate for drug A with correct diagnosis is 0.907601799515515\n",
      "Approval rate for drug A with tried and failed is 0.9386194029850746\n",
      "Approval rate for drug A with contraindication is 0.7262340036563071\n",
      "Approval rate for drug A with no features is 0.8960739030023095\n"
     ]
    }
   ],
   "source": [
    "data_A_CD = data_A[data_A['correct_diagnosis']==1]\n",
    "data_A_TF = data_A[data_A['tried_and_failed']==1]\n",
    "data_A_CI = data_A[data_A['contraindication']==1]\n",
    "data_A_None = data_A[(data_A['correct_diagnosis']==0)&(data_A['tried_and_failed']==0)&(data_A['contraindication']==0)]\n",
    "print(\"Approval rate for drug A with correct diagnosis is\",data_A_CD['pa_approved'].mean())\n",
    "print(\"Approval rate for drug A with tried and failed is\",data_A_TF['pa_approved'].mean())\n",
    "print(\"Approval rate for drug A with contraindication is\",data_A_CI['pa_approved'].mean())\n",
    "print(\"Approval rate for drug A with no features is\",data_A_None['pa_approved'].mean())"
   ]
  },
  {
   "cell_type": "code",
   "execution_count": 72,
   "metadata": {},
   "outputs": [
    {
     "name": "stdout",
     "output_type": "stream",
     "text": [
      "Approval rate for drug A with correct diagnosis only is 0.9280596159357982\n",
      "Approval rate for drug A with tried & failed only is 0.9598108747044918\n",
      "Approval rate for drug A with correct diagnosis and tried & failed is 0.9722870478413069\n",
      "Approval rate for drug A with contraindication only is 0.5534883720930233\n",
      "Approval rate for drug A with correct diagnosis, tried & failed and contraindication is 0.8242774566473988\n",
      "Approval rate for drug A with tried & failed and contraindication is 0.7828054298642534\n",
      "Approval rate for drug A with correct diagnosis and contraindication is 0.6583990980834273\n"
     ]
    }
   ],
   "source": [
    "data_A_CDTF = data_A[(data_A['correct_diagnosis']==1)&(data_A['tried_and_failed']==1)&(data_A['contraindication']==0)]\n",
    "data_A_CDonly = data_A[(data_A['correct_diagnosis']==1)&(data_A['tried_and_failed']==0)&(data_A['contraindication']==0)]\n",
    "data_A_TFonly = data_A[(data_A['correct_diagnosis']==0)&(data_A['tried_and_failed']==1)&(data_A['contraindication']==0)]\n",
    "data_A_CIonly = data_A[(data_A['correct_diagnosis']==0)&(data_A['tried_and_failed']==0)&(data_A['contraindication']==1)]\n",
    "data_A_CDTFCI = data_A[(data_A['correct_diagnosis']==1)&(data_A['tried_and_failed']==1)&(data_A['contraindication']==1)]\n",
    "data_A_TFCI = data_A[(data_A['correct_diagnosis']==0)&(data_A['tried_and_failed']==1)&(data_A['contraindication']==1)]\n",
    "data_A_CDCI = data_A[(data_A['correct_diagnosis']==1)&(data_A['tried_and_failed']==0)&(data_A['contraindication']==1)]\n",
    "print(\"Approval rate for drug A with correct diagnosis only is\",data_A_CDonly['pa_approved'].mean())\n",
    "print(\"Approval rate for drug A with tried & failed only is\",data_A_TFonly['pa_approved'].mean())\n",
    "print(\"Approval rate for drug A with correct diagnosis and tried & failed is\",data_A_CDTF['pa_approved'].mean())\n",
    "print(\"Approval rate for drug A with contraindication only is\",data_A_CIonly['pa_approved'].mean())\n",
    "print(\"Approval rate for drug A with correct diagnosis, tried & failed and contraindication is\",data_A_CDTFCI['pa_approved'].mean())\n",
    "print(\"Approval rate for drug A with tried & failed and contraindication is\",data_A_TFCI['pa_approved'].mean())\n",
    "print(\"Approval rate for drug A with correct diagnosis and contraindication is\",data_A_CDCI['pa_approved'].mean())"
   ]
  },
  {
   "cell_type": "code",
   "execution_count": 73,
   "metadata": {},
   "outputs": [
    {
     "name": "stdout",
     "output_type": "stream",
     "text": [
      "Approval rate for drug B with correct diagnosis is 0.4033531245023772\n",
      "Approval rate for drug B with tried and failed is 0.4825931671416718\n",
      "Approval rate for drug B with contraindication is 0.12536284470246734\n",
      "Approval rate for drug B with no features is 0.289875173370319\n"
     ]
    }
   ],
   "source": [
    "data_B_CD = data_B[data_B['correct_diagnosis']==1]\n",
    "data_B_TF = data_B[data_B['tried_and_failed']==1]\n",
    "data_B_CI = data_B[data_B['contraindication']==1]\n",
    "data_B_None = data_B[(data_B['correct_diagnosis']==0)&(data_B['tried_and_failed']==0)&(data_B['contraindication']==0)]\n",
    "print(\"Approval rate for drug B with correct diagnosis is\",data_B_CD['pa_approved'].mean())\n",
    "print(\"Approval rate for drug B with tried and failed is\",data_B_TF['pa_approved'].mean())\n",
    "print(\"Approval rate for drug B with contraindication is\",data_B_CI['pa_approved'].mean())\n",
    "print(\"Approval rate for drug B with no features is\",data_B_None['pa_approved'].mean())"
   ]
  },
  {
   "cell_type": "code",
   "execution_count": 74,
   "metadata": {},
   "outputs": [
    {
     "name": "stdout",
     "output_type": "stream",
     "text": [
      "Approval rate for drug B with correct diagnosis only is 0.3691202463082274\n",
      "Approval rate for drug B with tried & failed only is 0.5020957423339951\n",
      "Approval rate for drug B with contraindication only is 0.04440497335701599\n",
      "Approval rate for drug B with correct diagnosis and tried & failed is 0.5720774427979334\n",
      "Approval rate for drug B with tried & failed and contraindication is 0.1384051329055912\n",
      "Approval rate for drug B with correct diagnosis and contraindication is 0.07098265895953758\n",
      "Approval rate for drug B with correct diagnosis, tried & failed and contraindication is 0.19500223114680945\n"
     ]
    }
   ],
   "source": [
    "data_B_CDonly = data_B[(data_B['correct_diagnosis']==1)&(data_B['tried_and_failed']==0)&(data_B['contraindication']==0)]\n",
    "data_B_TFonly = data_B[(data_B['correct_diagnosis']==0)&(data_B['tried_and_failed']==1)&(data_B['contraindication']==0)]\n",
    "data_B_CIonly = data_B[(data_B['correct_diagnosis']==0)&(data_B['tried_and_failed']==0)&(data_B['contraindication']==1)]\n",
    "data_B_CDTF = data_B[(data_B['correct_diagnosis']==1)&(data_B['tried_and_failed']==1)&(data_B['contraindication']==0)]\n",
    "data_B_TFCI = data_B[(data_B['correct_diagnosis']==0)&(data_B['tried_and_failed']==1)&(data_B['contraindication']==1)]\n",
    "data_B_CDCI = data_B[(data_B['correct_diagnosis']==1)&(data_B['tried_and_failed']==0)&(data_B['contraindication']==1)]\n",
    "data_B_CDTFCI = data_B[(data_B['correct_diagnosis']==1)&(data_B['tried_and_failed']==1)&(data_B['contraindication']==1)]\n",
    "print(\"Approval rate for drug B with correct diagnosis only is\",data_B_CDonly['pa_approved'].mean())\n",
    "print(\"Approval rate for drug B with tried & failed only is\",data_B_TFonly['pa_approved'].mean())\n",
    "print(\"Approval rate for drug B with contraindication only is\",data_B_CIonly['pa_approved'].mean())\n",
    "print(\"Approval rate for drug B with correct diagnosis and tried & failed is\",data_B_CDTF['pa_approved'].mean())\n",
    "print(\"Approval rate for drug B with tried & failed and contraindication is\",data_B_TFCI['pa_approved'].mean())\n",
    "print(\"Approval rate for drug B with correct diagnosis and contraindication is\",data_B_CDCI['pa_approved'].mean())\n",
    "print(\"Approval rate for drug B with correct diagnosis, tried & failed and contraindication is\",data_B_CDTFCI['pa_approved'].mean())\n"
   ]
  },
  {
   "cell_type": "code",
   "execution_count": 75,
   "metadata": {},
   "outputs": [
    {
     "name": "stdout",
     "output_type": "stream",
     "text": [
      "Approval rate for drug C with correct diagnosis is 0.8407950310559006\n",
      "Approval rate for drug C with tried and failed is 0.8912167285206911\n",
      "Approval rate for drug C with contraindication is 0.5898687824229478\n",
      "Approval rate for drug C with no features is 0.8167420814479638\n"
     ]
    }
   ],
   "source": [
    "data_C_CD = data_C[data_C['correct_diagnosis']==1]\n",
    "data_C_TF = data_C[data_C['tried_and_failed']==1]\n",
    "data_C_CI = data_C[data_C['contraindication']==1]\n",
    "data_C_None = data_C[(data_C['correct_diagnosis']==0)&(data_C['tried_and_failed']==0)&(data_C['contraindication']==0)]\n",
    "print(\"Approval rate for drug C with correct diagnosis is\",data_C_CD['pa_approved'].mean())\n",
    "print(\"Approval rate for drug C with tried and failed is\",data_C_TF['pa_approved'].mean())\n",
    "print(\"Approval rate for drug C with contraindication is\",data_C_CI['pa_approved'].mean())\n",
    "print(\"Approval rate for drug C with no features is\",data_C_None['pa_approved'].mean())"
   ]
  },
  {
   "cell_type": "code",
   "execution_count": 76,
   "metadata": {},
   "outputs": [
    {
     "name": "stdout",
     "output_type": "stream",
     "text": [
      "Approval rate for drug C with correct diagnosis only is 0.8541333004804731\n",
      "Approval rate for drug C with tried & failed only is 0.923513446829509\n",
      "Approval rate for drug C with contraindication only is 0.4275132275132275\n",
      "Approval rate for drug C with correct diagnosis and tried & failed is 0.9449729528073121\n",
      "Approval rate for drug C with tried & failed and contraindication is 0.6474291710388248\n",
      "Approval rate for drug C with correct diagnosis and contraindication is 0.5054251829422155\n",
      "Approval rate for drug C with correct diagnosis, tried & failed and contraindication is 0.698992443324937\n"
     ]
    }
   ],
   "source": [
    "data_C_CDonly = data_C[(data_C['correct_diagnosis']==1)&(data_C['tried_and_failed']==0)&(data_C['contraindication']==0)]\n",
    "data_C_TFonly = data_C[(data_C['correct_diagnosis']==0)&(data_C['tried_and_failed']==1)&(data_C['contraindication']==0)]\n",
    "data_C_CIonly = data_C[(data_C['correct_diagnosis']==0)&(data_C['tried_and_failed']==0)&(data_C['contraindication']==1)]\n",
    "data_C_CDTF = data_C[(data_C['correct_diagnosis']==1)&(data_C['tried_and_failed']==1)&(data_C['contraindication']==0)]\n",
    "data_C_TFCI = data_C[(data_C['correct_diagnosis']==0)&(data_C['tried_and_failed']==1)&(data_C['contraindication']==1)]\n",
    "data_C_CDCI = data_C[(data_C['correct_diagnosis']==1)&(data_C['tried_and_failed']==0)&(data_C['contraindication']==1)]\n",
    "data_C_CDTFCI = data_C[(data_C['correct_diagnosis']==1)&(data_C['tried_and_failed']==1)&(data_C['contraindication']==1)]\n",
    "print(\"Approval rate for drug C with correct diagnosis only is\",data_C_CDonly['pa_approved'].mean())\n",
    "print(\"Approval rate for drug C with tried & failed only is\",data_C_TFonly['pa_approved'].mean())\n",
    "print(\"Approval rate for drug C with contraindication only is\",data_C_CIonly['pa_approved'].mean())\n",
    "print(\"Approval rate for drug C with correct diagnosis and tried & failed is\",data_C_CDTF['pa_approved'].mean())\n",
    "print(\"Approval rate for drug C with tried & failed and contraindication is\",data_C_TFCI['pa_approved'].mean())\n",
    "print(\"Approval rate for drug C with correct diagnosis and contraindication is\",data_C_CDCI['pa_approved'].mean())\n",
    "print(\"Approval rate for drug C with correct diagnosis, tried & failed and contraindication is\",data_C_CDTFCI['pa_approved'].mean())"
   ]
  },
  {
   "cell_type": "markdown",
   "metadata": {},
   "source": [
    "Looking at distribution of PA features for all approved PAs for each drug."
   ]
  },
  {
   "cell_type": "code",
   "execution_count": 78,
   "metadata": {},
   "outputs": [],
   "source": [
    "data_A_approved = data[(data['drug']=='A')&(data['pa_approved']==1)]\n",
    "data_B_approved = data[(data['drug']=='B')&(data['pa_approved']==1)]\n",
    "data_C_approved = data[(data['drug']=='C')&(data['pa_approved']==1)]"
   ]
  },
  {
   "cell_type": "code",
   "execution_count": 79,
   "metadata": {},
   "outputs": [
    {
     "data": {
      "text/plain": [
       "<seaborn.axisgrid.FacetGrid at 0x1a74a95dac0>"
      ]
     },
     "execution_count": 79,
     "metadata": {},
     "output_type": "execute_result"
    },
    {
     "data": {
      "image/png": "[encoded data removed]",
      "text/plain": [
       "<Figure size 360x360 with 1 Axes>"
      ]
     },
     "metadata": {
      "needs_background": "light"
     },
     "output_type": "display_data"
    }
   ],
   "source": [
    "##Looking at distribution of claim features within approved PAs for Drug A\n",
    "pa_plot_A=sns.catplot(x=\"claim_reason\", kind=\"count\",palette=\"pastel\",data=data_A_approved)\n",
    "pa_plot_A.set_axis_labels(\"Features on PA\",\"Approved PA count for Drug A\")"
   ]
  },
  {
   "cell_type": "code",
   "execution_count": 80,
   "metadata": {},
   "outputs": [
    {
     "data": {
      "text/plain": [
       "<seaborn.axisgrid.FacetGrid at 0x1a747415ee0>"
      ]
     },
     "execution_count": 80,
     "metadata": {},
     "output_type": "execute_result"
    },
    {
     "data": {
      "image/png": "[encoded data removed]",
      "text/plain": [
       "<Figure size 432.25x360 with 1 Axes>"
      ]
     },
     "metadata": {
      "needs_background": "light"
     },
     "output_type": "display_data"
    }
   ],
   "source": [
    "pa_plot_A_all = sns.catplot(x=\"claim_reason\", hue=\"pa_approved\", kind=\"count\",hue_order=[1,0],palette=\"pastel\",data=data_A)\n",
    "pa_plot_A_all.set_axis_labels(\"Features on PA\",\"PA count\")"
   ]
  },
  {
   "cell_type": "code",
   "execution_count": 81,
   "metadata": {},
   "outputs": [
    {
     "data": {
      "text/plain": [
       "<seaborn.axisgrid.FacetGrid at 0x1a748c6bcd0>"
      ]
     },
     "execution_count": 81,
     "metadata": {},
     "output_type": "execute_result"
    },
    {
     "data": {
      "image/png": "[encoded data removed]",
      "text/plain": [
       "<Figure size 360x360 with 1 Axes>"
      ]
     },
     "metadata": {
      "needs_background": "light"
     },
     "output_type": "display_data"
    }
   ],
   "source": [
    "##Looking at distribution of claim features within approved PAs for Drug B\n",
    "pa_plot_B=sns.catplot(x=\"claim_reason\", kind=\"count\",palette=\"pastel\",data=data_B_approved)\n",
    "pa_plot_B.set_axis_labels(\"Features on PA\",\"Approved PA count for Drug B\")"
   ]
  },
  {
   "cell_type": "code",
   "execution_count": 82,
   "metadata": {},
   "outputs": [
    {
     "data": {
      "text/plain": [
       "<seaborn.axisgrid.FacetGrid at 0x1a74a664f40>"
      ]
     },
     "execution_count": 82,
     "metadata": {},
     "output_type": "execute_result"
    },
    {
     "data": {
      "image/png": "[encoded data removed]",
      "text/plain": [
       "<Figure size 432.25x360 with 1 Axes>"
      ]
     },
     "metadata": {
      "needs_background": "light"
     },
     "output_type": "display_data"
    }
   ],
   "source": [
    "pa_plot_B_all = sns.catplot(x=\"claim_reason\", hue=\"pa_approved\", kind=\"count\",hue_order=[1,0],palette=\"pastel\",data=data_B)\n",
    "pa_plot_B_all.set_axis_labels(\"Features on PA\",\"PA count\")"
   ]
  },
  {
   "cell_type": "code",
   "execution_count": 83,
   "metadata": {},
   "outputs": [
    {
     "data": {
      "text/plain": [
       "<seaborn.axisgrid.FacetGrid at 0x1a7522715b0>"
      ]
     },
     "execution_count": 83,
     "metadata": {},
     "output_type": "execute_result"
    },
    {
     "data": {
      "image/png": "[encoded data removed]",
      "text/plain": [
       "<Figure size 360x360 with 1 Axes>"
      ]
     },
     "metadata": {
      "needs_background": "light"
     },
     "output_type": "display_data"
    }
   ],
   "source": [
    "##Looking at distribution of claim features within approved PAs for Drug C\n",
    "pa_plot_C=sns.catplot(x=\"claim_reason\", kind=\"count\",palette=\"pastel\",data=data_C_approved)\n",
    "pa_plot_C.set_axis_labels(\"Features on PA\",\"Approved PA count for Drug C\")"
   ]
  },
  {
   "cell_type": "code",
   "execution_count": 84,
   "metadata": {},
   "outputs": [
    {
     "data": {
      "text/plain": [
       "<seaborn.axisgrid.FacetGrid at 0x1a7565b13a0>"
      ]
     },
     "execution_count": 84,
     "metadata": {},
     "output_type": "execute_result"
    },
    {
     "data": {
      "image/png": "[encoded data removed]",
      "text/plain": [
       "<Figure size 432.25x360 with 1 Axes>"
      ]
     },
     "metadata": {
      "needs_background": "light"
     },
     "output_type": "display_data"
    }
   ],
   "source": [
    "pa_plot_C_all = sns.catplot(x=\"claim_reason\", hue=\"pa_approved\", kind=\"count\",hue_order=[1,0],palette=\"pastel\",data=data_C)\n",
    "pa_plot_C_all.set_axis_labels(\"Features on PA\",\"PA count\")"
   ]
  },
  {
   "cell_type": "code",
   "execution_count": null,
   "metadata": {},
   "outputs": [],
   "source": []
  }
 ],
 "metadata": {
  "kernelspec": {
   "display_name": "Python 3",
   "language": "python",
   "name": "python3"
  },
  "language_info": {
   "codemirror_mode": {
    "name": "ipython",
    "version": 3
   },
   "file_extension": ".py",
   "mimetype": "text/x-python",
   "name": "python",
   "nbconvert_exporter": "python",
   "pygments_lexer": "ipython3",
   "version": "3.8.3"
  }
 },
 "nbformat": 4,
 "nbformat_minor": 4
}
