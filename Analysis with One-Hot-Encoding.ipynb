{
 "cells": [
  {
   "cell_type": "code",
   "execution_count": 2,
   "metadata": {},
   "outputs": [],
   "source": [
    "import pandas as pd\n",
    "import numpy as np\n",
    "import matplotlib.pyplot as plt\n",
    "import seaborn as sns"
   ]
  },
  {
   "cell_type": "code",
   "execution_count": 3,
   "metadata": {},
   "outputs": [],
   "source": [
    "from sklearn.tree import DecisionTreeClassifier"
   ]
  },
  {
   "cell_type": "code",
   "execution_count": 9,
   "metadata": {},
   "outputs": [],
   "source": [
    "data = pd.read_csv('data.csv')"
   ]
  },
  {
   "cell_type": "code",
   "execution_count": 10,
   "metadata": {},
   "outputs": [
    {
     "data": {
      "text/html": [
       "<div>\n",
       "<style scoped>\n",
       "    .dataframe tbody tr th:only-of-type {\n",
       "        vertical-align: middle;\n",
       "    }\n",
       "\n",
       "    .dataframe tbody tr th {\n",
       "        vertical-align: top;\n",
       "    }\n",
       "\n",
       "    .dataframe thead th {\n",
       "        text-align: right;\n",
       "    }\n",
       "</style>\n",
       "<table border=\"1\" class=\"dataframe\">\n",
       "  <thead>\n",
       "    <tr style=\"text-align: right;\">\n",
       "      <th></th>\n",
       "      <th>dim_claim_id</th>\n",
       "      <th>dim_pa_id</th>\n",
       "      <th>dim_date_id</th>\n",
       "      <th>bin</th>\n",
       "      <th>drug</th>\n",
       "      <th>reject_code</th>\n",
       "      <th>pharmacy_claim_approved</th>\n",
       "      <th>correct_diagnosis</th>\n",
       "      <th>tried_and_failed</th>\n",
       "      <th>contraindication</th>\n",
       "      <th>pa_approved</th>\n",
       "      <th>claim_reason</th>\n",
       "      <th>pa_feats</th>\n",
       "    </tr>\n",
       "  </thead>\n",
       "  <tbody>\n",
       "    <tr>\n",
       "      <th>0</th>\n",
       "      <td>3</td>\n",
       "      <td>2.0</td>\n",
       "      <td>1</td>\n",
       "      <td>417740</td>\n",
       "      <td>A</td>\n",
       "      <td>76.0</td>\n",
       "      <td>0</td>\n",
       "      <td>1</td>\n",
       "      <td>0</td>\n",
       "      <td>0</td>\n",
       "      <td>1</td>\n",
       "      <td>CD</td>\n",
       "      <td>0</td>\n",
       "    </tr>\n",
       "    <tr>\n",
       "      <th>1</th>\n",
       "      <td>33</td>\n",
       "      <td>16.0</td>\n",
       "      <td>1</td>\n",
       "      <td>417740</td>\n",
       "      <td>A</td>\n",
       "      <td>76.0</td>\n",
       "      <td>0</td>\n",
       "      <td>1</td>\n",
       "      <td>1</td>\n",
       "      <td>1</td>\n",
       "      <td>0</td>\n",
       "      <td>CDTFCI</td>\n",
       "      <td>6</td>\n",
       "    </tr>\n",
       "    <tr>\n",
       "      <th>2</th>\n",
       "      <td>59</td>\n",
       "      <td>25.0</td>\n",
       "      <td>1</td>\n",
       "      <td>417740</td>\n",
       "      <td>A</td>\n",
       "      <td>76.0</td>\n",
       "      <td>0</td>\n",
       "      <td>1</td>\n",
       "      <td>0</td>\n",
       "      <td>0</td>\n",
       "      <td>1</td>\n",
       "      <td>CD</td>\n",
       "      <td>0</td>\n",
       "    </tr>\n",
       "    <tr>\n",
       "      <th>3</th>\n",
       "      <td>110</td>\n",
       "      <td>49.0</td>\n",
       "      <td>1</td>\n",
       "      <td>417740</td>\n",
       "      <td>B</td>\n",
       "      <td>70.0</td>\n",
       "      <td>0</td>\n",
       "      <td>1</td>\n",
       "      <td>0</td>\n",
       "      <td>0</td>\n",
       "      <td>0</td>\n",
       "      <td>CD</td>\n",
       "      <td>0</td>\n",
       "    </tr>\n",
       "    <tr>\n",
       "      <th>4</th>\n",
       "      <td>119</td>\n",
       "      <td>50.0</td>\n",
       "      <td>1</td>\n",
       "      <td>417740</td>\n",
       "      <td>B</td>\n",
       "      <td>70.0</td>\n",
       "      <td>0</td>\n",
       "      <td>1</td>\n",
       "      <td>0</td>\n",
       "      <td>0</td>\n",
       "      <td>0</td>\n",
       "      <td>CD</td>\n",
       "      <td>0</td>\n",
       "    </tr>\n",
       "    <tr>\n",
       "      <th>5</th>\n",
       "      <td>125</td>\n",
       "      <td>52.0</td>\n",
       "      <td>1</td>\n",
       "      <td>417740</td>\n",
       "      <td>B</td>\n",
       "      <td>70.0</td>\n",
       "      <td>0</td>\n",
       "      <td>1</td>\n",
       "      <td>0</td>\n",
       "      <td>0</td>\n",
       "      <td>0</td>\n",
       "      <td>CD</td>\n",
       "      <td>0</td>\n",
       "    </tr>\n",
       "    <tr>\n",
       "      <th>6</th>\n",
       "      <td>131</td>\n",
       "      <td>55.0</td>\n",
       "      <td>1</td>\n",
       "      <td>417740</td>\n",
       "      <td>B</td>\n",
       "      <td>70.0</td>\n",
       "      <td>0</td>\n",
       "      <td>1</td>\n",
       "      <td>0</td>\n",
       "      <td>0</td>\n",
       "      <td>0</td>\n",
       "      <td>CD</td>\n",
       "      <td>0</td>\n",
       "    </tr>\n",
       "    <tr>\n",
       "      <th>7</th>\n",
       "      <td>137</td>\n",
       "      <td>58.0</td>\n",
       "      <td>1</td>\n",
       "      <td>417740</td>\n",
       "      <td>B</td>\n",
       "      <td>70.0</td>\n",
       "      <td>0</td>\n",
       "      <td>1</td>\n",
       "      <td>1</td>\n",
       "      <td>0</td>\n",
       "      <td>1</td>\n",
       "      <td>CDTF</td>\n",
       "      <td>3</td>\n",
       "    </tr>\n",
       "    <tr>\n",
       "      <th>8</th>\n",
       "      <td>138</td>\n",
       "      <td>59.0</td>\n",
       "      <td>1</td>\n",
       "      <td>417740</td>\n",
       "      <td>B</td>\n",
       "      <td>70.0</td>\n",
       "      <td>0</td>\n",
       "      <td>1</td>\n",
       "      <td>0</td>\n",
       "      <td>0</td>\n",
       "      <td>0</td>\n",
       "      <td>CD</td>\n",
       "      <td>0</td>\n",
       "    </tr>\n",
       "    <tr>\n",
       "      <th>9</th>\n",
       "      <td>146</td>\n",
       "      <td>61.0</td>\n",
       "      <td>1</td>\n",
       "      <td>417740</td>\n",
       "      <td>B</td>\n",
       "      <td>70.0</td>\n",
       "      <td>0</td>\n",
       "      <td>1</td>\n",
       "      <td>0</td>\n",
       "      <td>0</td>\n",
       "      <td>1</td>\n",
       "      <td>CD</td>\n",
       "      <td>0</td>\n",
       "    </tr>\n",
       "  </tbody>\n",
       "</table>\n",
       "</div>"
      ],
      "text/plain": [
       "   dim_claim_id  dim_pa_id  dim_date_id     bin drug  reject_code  \\\n",
       "0             3        2.0            1  417740    A         76.0   \n",
       "1            33       16.0            1  417740    A         76.0   \n",
       "2            59       25.0            1  417740    A         76.0   \n",
       "3           110       49.0            1  417740    B         70.0   \n",
       "4           119       50.0            1  417740    B         70.0   \n",
       "5           125       52.0            1  417740    B         70.0   \n",
       "6           131       55.0            1  417740    B         70.0   \n",
       "7           137       58.0            1  417740    B         70.0   \n",
       "8           138       59.0            1  417740    B         70.0   \n",
       "9           146       61.0            1  417740    B         70.0   \n",
       "\n",
       "   pharmacy_claim_approved  correct_diagnosis  tried_and_failed  \\\n",
       "0                        0                  1                 0   \n",
       "1                        0                  1                 1   \n",
       "2                        0                  1                 0   \n",
       "3                        0                  1                 0   \n",
       "4                        0                  1                 0   \n",
       "5                        0                  1                 0   \n",
       "6                        0                  1                 0   \n",
       "7                        0                  1                 1   \n",
       "8                        0                  1                 0   \n",
       "9                        0                  1                 0   \n",
       "\n",
       "   contraindication  pa_approved claim_reason  pa_feats  \n",
       "0                 0            1           CD         0  \n",
       "1                 1            0       CDTFCI         6  \n",
       "2                 0            1           CD         0  \n",
       "3                 0            0           CD         0  \n",
       "4                 0            0           CD         0  \n",
       "5                 0            0           CD         0  \n",
       "6                 0            0           CD         0  \n",
       "7                 0            1         CDTF         3  \n",
       "8                 0            0           CD         0  \n",
       "9                 0            1           CD         0  "
      ]
     },
     "execution_count": 10,
     "metadata": {},
     "output_type": "execute_result"
    }
   ],
   "source": [
    "data.head(10)"
   ]
  },
  {
   "cell_type": "markdown",
   "metadata": {},
   "source": [
    "## One Hot Encoding PA features and drugs"
   ]
  },
  {
   "cell_type": "code",
   "execution_count": 11,
   "metadata": {},
   "outputs": [
    {
     "data": {
      "text/html": [
       "<div>\n",
       "<style scoped>\n",
       "    .dataframe tbody tr th:only-of-type {\n",
       "        vertical-align: middle;\n",
       "    }\n",
       "\n",
       "    .dataframe tbody tr th {\n",
       "        vertical-align: top;\n",
       "    }\n",
       "\n",
       "    .dataframe thead th {\n",
       "        text-align: right;\n",
       "    }\n",
       "</style>\n",
       "<table border=\"1\" class=\"dataframe\">\n",
       "  <thead>\n",
       "    <tr style=\"text-align: right;\">\n",
       "      <th></th>\n",
       "      <th>dim_claim_id</th>\n",
       "      <th>dim_pa_id</th>\n",
       "      <th>dim_date_id</th>\n",
       "      <th>bin</th>\n",
       "      <th>drug</th>\n",
       "      <th>reject_code</th>\n",
       "      <th>pharmacy_claim_approved</th>\n",
       "      <th>correct_diagnosis</th>\n",
       "      <th>tried_and_failed</th>\n",
       "      <th>contraindication</th>\n",
       "      <th>pa_approved</th>\n",
       "      <th>claim_reason</th>\n",
       "      <th>pa_feats</th>\n",
       "      <th>CDCI</th>\n",
       "      <th>CDTF</th>\n",
       "      <th>CDTFCI</th>\n",
       "      <th>CI</th>\n",
       "      <th>None</th>\n",
       "      <th>TF</th>\n",
       "      <th>TFCI</th>\n",
       "    </tr>\n",
       "  </thead>\n",
       "  <tbody>\n",
       "    <tr>\n",
       "      <th>0</th>\n",
       "      <td>3</td>\n",
       "      <td>2.0</td>\n",
       "      <td>1</td>\n",
       "      <td>417740</td>\n",
       "      <td>A</td>\n",
       "      <td>76.0</td>\n",
       "      <td>0</td>\n",
       "      <td>1</td>\n",
       "      <td>0</td>\n",
       "      <td>0</td>\n",
       "      <td>1</td>\n",
       "      <td>CD</td>\n",
       "      <td>0</td>\n",
       "      <td>0</td>\n",
       "      <td>0</td>\n",
       "      <td>0</td>\n",
       "      <td>0</td>\n",
       "      <td>0</td>\n",
       "      <td>0</td>\n",
       "      <td>0</td>\n",
       "    </tr>\n",
       "    <tr>\n",
       "      <th>1</th>\n",
       "      <td>33</td>\n",
       "      <td>16.0</td>\n",
       "      <td>1</td>\n",
       "      <td>417740</td>\n",
       "      <td>A</td>\n",
       "      <td>76.0</td>\n",
       "      <td>0</td>\n",
       "      <td>1</td>\n",
       "      <td>1</td>\n",
       "      <td>1</td>\n",
       "      <td>0</td>\n",
       "      <td>CDTFCI</td>\n",
       "      <td>6</td>\n",
       "      <td>0</td>\n",
       "      <td>0</td>\n",
       "      <td>1</td>\n",
       "      <td>0</td>\n",
       "      <td>0</td>\n",
       "      <td>0</td>\n",
       "      <td>0</td>\n",
       "    </tr>\n",
       "    <tr>\n",
       "      <th>2</th>\n",
       "      <td>59</td>\n",
       "      <td>25.0</td>\n",
       "      <td>1</td>\n",
       "      <td>417740</td>\n",
       "      <td>A</td>\n",
       "      <td>76.0</td>\n",
       "      <td>0</td>\n",
       "      <td>1</td>\n",
       "      <td>0</td>\n",
       "      <td>0</td>\n",
       "      <td>1</td>\n",
       "      <td>CD</td>\n",
       "      <td>0</td>\n",
       "      <td>0</td>\n",
       "      <td>0</td>\n",
       "      <td>0</td>\n",
       "      <td>0</td>\n",
       "      <td>0</td>\n",
       "      <td>0</td>\n",
       "      <td>0</td>\n",
       "    </tr>\n",
       "    <tr>\n",
       "      <th>3</th>\n",
       "      <td>110</td>\n",
       "      <td>49.0</td>\n",
       "      <td>1</td>\n",
       "      <td>417740</td>\n",
       "      <td>B</td>\n",
       "      <td>70.0</td>\n",
       "      <td>0</td>\n",
       "      <td>1</td>\n",
       "      <td>0</td>\n",
       "      <td>0</td>\n",
       "      <td>0</td>\n",
       "      <td>CD</td>\n",
       "      <td>0</td>\n",
       "      <td>0</td>\n",
       "      <td>0</td>\n",
       "      <td>0</td>\n",
       "      <td>0</td>\n",
       "      <td>0</td>\n",
       "      <td>0</td>\n",
       "      <td>0</td>\n",
       "    </tr>\n",
       "    <tr>\n",
       "      <th>4</th>\n",
       "      <td>119</td>\n",
       "      <td>50.0</td>\n",
       "      <td>1</td>\n",
       "      <td>417740</td>\n",
       "      <td>B</td>\n",
       "      <td>70.0</td>\n",
       "      <td>0</td>\n",
       "      <td>1</td>\n",
       "      <td>0</td>\n",
       "      <td>0</td>\n",
       "      <td>0</td>\n",
       "      <td>CD</td>\n",
       "      <td>0</td>\n",
       "      <td>0</td>\n",
       "      <td>0</td>\n",
       "      <td>0</td>\n",
       "      <td>0</td>\n",
       "      <td>0</td>\n",
       "      <td>0</td>\n",
       "      <td>0</td>\n",
       "    </tr>\n",
       "  </tbody>\n",
       "</table>\n",
       "</div>"
      ],
      "text/plain": [
       "   dim_claim_id  dim_pa_id  dim_date_id     bin drug  reject_code  \\\n",
       "0             3        2.0            1  417740    A         76.0   \n",
       "1            33       16.0            1  417740    A         76.0   \n",
       "2            59       25.0            1  417740    A         76.0   \n",
       "3           110       49.0            1  417740    B         70.0   \n",
       "4           119       50.0            1  417740    B         70.0   \n",
       "\n",
       "   pharmacy_claim_approved  correct_diagnosis  tried_and_failed  \\\n",
       "0                        0                  1                 0   \n",
       "1                        0                  1                 1   \n",
       "2                        0                  1                 0   \n",
       "3                        0                  1                 0   \n",
       "4                        0                  1                 0   \n",
       "\n",
       "   contraindication  pa_approved claim_reason  pa_feats  CDCI  CDTF  CDTFCI  \\\n",
       "0                 0            1           CD         0     0     0       0   \n",
       "1                 1            0       CDTFCI         6     0     0       1   \n",
       "2                 0            1           CD         0     0     0       0   \n",
       "3                 0            0           CD         0     0     0       0   \n",
       "4                 0            0           CD         0     0     0       0   \n",
       "\n",
       "   CI  None  TF  TFCI  \n",
       "0   0     0   0     0  \n",
       "1   0     0   0     0  \n",
       "2   0     0   0     0  \n",
       "3   0     0   0     0  \n",
       "4   0     0   0     0  "
      ]
     },
     "execution_count": 11,
     "metadata": {},
     "output_type": "execute_result"
    }
   ],
   "source": [
    "dummies = pd.get_dummies(data['claim_reason'],drop_first=True)\n",
    "data = pd.concat([data,dummies], axis= 1)\n",
    "data.head()"
   ]
  },
  {
   "cell_type": "markdown",
   "metadata": {},
   "source": [
    "Separating the dataset into three datasets by drug and making training and test dataframes."
   ]
  },
  {
   "cell_type": "code",
   "execution_count": 12,
   "metadata": {},
   "outputs": [],
   "source": [
    "from sklearn.model_selection import train_test_split"
   ]
  },
  {
   "cell_type": "code",
   "execution_count": 8,
   "metadata": {},
   "outputs": [],
   "source": [
    "#X = data[['drug','reject_code','claim_reason']]\n",
    "#y = data['pa_approved']"
   ]
  },
  {
   "cell_type": "code",
   "execution_count": 9,
   "metadata": {},
   "outputs": [],
   "source": [
    "#X_train, X_test,y_train,y_test = train_test_split(X,y,test_size=0.20,random_state=614,shuffle=True,stratify=y)"
   ]
  },
  {
   "cell_type": "code",
   "execution_count": 10,
   "metadata": {},
   "outputs": [],
   "source": [
    "X_A = data_A[['CDCI','CDTF','CDTFCI','CI','None','TF','TFCI']]\n",
    "y_A = data_A['pa_approved']\n",
    "X_A_train, X_A_test,y_A_train,y_A_test = train_test_split(X_A,y_A,test_size=0.20,random_state=614,shuffle=True,stratify=y_A)"
   ]
  },
  {
   "cell_type": "code",
   "execution_count": 11,
   "metadata": {},
   "outputs": [],
   "source": [
    "X_B = data_B[['CDCI','CDTF','CDTFCI','CI','None','TF','TFCI']]\n",
    "y_B = data_B['pa_approved']\n",
    "X_B_train, X_B_test,y_B_train,y_B_test = train_test_split(X_B,y_B,test_size=0.20,random_state=614,shuffle=True,stratify=y_B)"
   ]
  },
  {
   "cell_type": "code",
   "execution_count": 12,
   "metadata": {},
   "outputs": [],
   "source": [
    "X_C = data_C[['CDCI','CDTF','CDTFCI','CI','None','TF','TFCI']]\n",
    "y_C = data_C['pa_approved']\n",
    "X_C_train, X_C_test,y_C_train,y_C_test = train_test_split(X_C,y_C,test_size=0.20,random_state=614,shuffle=True,stratify=y_C)"
   ]
  },
  {
   "cell_type": "code",
   "execution_count": 36,
   "metadata": {},
   "outputs": [
    {
     "data": {
      "text/html": [
       "<div>\n",
       "<style scoped>\n",
       "    .dataframe tbody tr th:only-of-type {\n",
       "        vertical-align: middle;\n",
       "    }\n",
       "\n",
       "    .dataframe tbody tr th {\n",
       "        vertical-align: top;\n",
       "    }\n",
       "\n",
       "    .dataframe thead th {\n",
       "        text-align: right;\n",
       "    }\n",
       "</style>\n",
       "<table border=\"1\" class=\"dataframe\">\n",
       "  <thead>\n",
       "    <tr style=\"text-align: right;\">\n",
       "      <th></th>\n",
       "      <th>dim_claim_id</th>\n",
       "      <th>dim_pa_id</th>\n",
       "      <th>dim_date_id</th>\n",
       "      <th>bin</th>\n",
       "      <th>drug</th>\n",
       "      <th>reject_code</th>\n",
       "      <th>pharmacy_claim_approved</th>\n",
       "      <th>correct_diagnosis</th>\n",
       "      <th>tried_and_failed</th>\n",
       "      <th>contraindication</th>\n",
       "      <th>...</th>\n",
       "      <th>claim_reason</th>\n",
       "      <th>CDCI</th>\n",
       "      <th>CDTF</th>\n",
       "      <th>CDTFCI</th>\n",
       "      <th>CI</th>\n",
       "      <th>None</th>\n",
       "      <th>TF</th>\n",
       "      <th>TFCI</th>\n",
       "      <th>B</th>\n",
       "      <th>C</th>\n",
       "    </tr>\n",
       "  </thead>\n",
       "  <tbody>\n",
       "    <tr>\n",
       "      <th>0</th>\n",
       "      <td>3</td>\n",
       "      <td>2.0</td>\n",
       "      <td>1</td>\n",
       "      <td>417740</td>\n",
       "      <td>A</td>\n",
       "      <td>76.0</td>\n",
       "      <td>0</td>\n",
       "      <td>1</td>\n",
       "      <td>0</td>\n",
       "      <td>0</td>\n",
       "      <td>...</td>\n",
       "      <td>CD</td>\n",
       "      <td>0</td>\n",
       "      <td>0</td>\n",
       "      <td>0</td>\n",
       "      <td>0</td>\n",
       "      <td>0</td>\n",
       "      <td>0</td>\n",
       "      <td>0</td>\n",
       "      <td>0</td>\n",
       "      <td>0</td>\n",
       "    </tr>\n",
       "    <tr>\n",
       "      <th>1</th>\n",
       "      <td>33</td>\n",
       "      <td>16.0</td>\n",
       "      <td>1</td>\n",
       "      <td>417740</td>\n",
       "      <td>A</td>\n",
       "      <td>76.0</td>\n",
       "      <td>0</td>\n",
       "      <td>1</td>\n",
       "      <td>1</td>\n",
       "      <td>1</td>\n",
       "      <td>...</td>\n",
       "      <td>CDTFCI</td>\n",
       "      <td>0</td>\n",
       "      <td>0</td>\n",
       "      <td>1</td>\n",
       "      <td>0</td>\n",
       "      <td>0</td>\n",
       "      <td>0</td>\n",
       "      <td>0</td>\n",
       "      <td>0</td>\n",
       "      <td>0</td>\n",
       "    </tr>\n",
       "    <tr>\n",
       "      <th>2</th>\n",
       "      <td>59</td>\n",
       "      <td>25.0</td>\n",
       "      <td>1</td>\n",
       "      <td>417740</td>\n",
       "      <td>A</td>\n",
       "      <td>76.0</td>\n",
       "      <td>0</td>\n",
       "      <td>1</td>\n",
       "      <td>0</td>\n",
       "      <td>0</td>\n",
       "      <td>...</td>\n",
       "      <td>CD</td>\n",
       "      <td>0</td>\n",
       "      <td>0</td>\n",
       "      <td>0</td>\n",
       "      <td>0</td>\n",
       "      <td>0</td>\n",
       "      <td>0</td>\n",
       "      <td>0</td>\n",
       "      <td>0</td>\n",
       "      <td>0</td>\n",
       "    </tr>\n",
       "    <tr>\n",
       "      <th>3</th>\n",
       "      <td>110</td>\n",
       "      <td>49.0</td>\n",
       "      <td>1</td>\n",
       "      <td>417740</td>\n",
       "      <td>B</td>\n",
       "      <td>70.0</td>\n",
       "      <td>0</td>\n",
       "      <td>1</td>\n",
       "      <td>0</td>\n",
       "      <td>0</td>\n",
       "      <td>...</td>\n",
       "      <td>CD</td>\n",
       "      <td>0</td>\n",
       "      <td>0</td>\n",
       "      <td>0</td>\n",
       "      <td>0</td>\n",
       "      <td>0</td>\n",
       "      <td>0</td>\n",
       "      <td>0</td>\n",
       "      <td>1</td>\n",
       "      <td>0</td>\n",
       "    </tr>\n",
       "    <tr>\n",
       "      <th>4</th>\n",
       "      <td>119</td>\n",
       "      <td>50.0</td>\n",
       "      <td>1</td>\n",
       "      <td>417740</td>\n",
       "      <td>B</td>\n",
       "      <td>70.0</td>\n",
       "      <td>0</td>\n",
       "      <td>1</td>\n",
       "      <td>0</td>\n",
       "      <td>0</td>\n",
       "      <td>...</td>\n",
       "      <td>CD</td>\n",
       "      <td>0</td>\n",
       "      <td>0</td>\n",
       "      <td>0</td>\n",
       "      <td>0</td>\n",
       "      <td>0</td>\n",
       "      <td>0</td>\n",
       "      <td>0</td>\n",
       "      <td>1</td>\n",
       "      <td>0</td>\n",
       "    </tr>\n",
       "  </tbody>\n",
       "</table>\n",
       "<p>5 rows × 21 columns</p>\n",
       "</div>"
      ],
      "text/plain": [
       "   dim_claim_id  dim_pa_id  dim_date_id     bin drug  reject_code  \\\n",
       "0             3        2.0            1  417740    A         76.0   \n",
       "1            33       16.0            1  417740    A         76.0   \n",
       "2            59       25.0            1  417740    A         76.0   \n",
       "3           110       49.0            1  417740    B         70.0   \n",
       "4           119       50.0            1  417740    B         70.0   \n",
       "\n",
       "   pharmacy_claim_approved  correct_diagnosis  tried_and_failed  \\\n",
       "0                        0                  1                 0   \n",
       "1                        0                  1                 1   \n",
       "2                        0                  1                 0   \n",
       "3                        0                  1                 0   \n",
       "4                        0                  1                 0   \n",
       "\n",
       "   contraindication  ...  claim_reason CDCI  CDTF  CDTFCI  CI  None  TF  TFCI  \\\n",
       "0                 0  ...            CD    0     0       0   0     0   0     0   \n",
       "1                 1  ...        CDTFCI    0     0       1   0     0   0     0   \n",
       "2                 0  ...            CD    0     0       0   0     0   0     0   \n",
       "3                 0  ...            CD    0     0       0   0     0   0     0   \n",
       "4                 0  ...            CD    0     0       0   0     0   0     0   \n",
       "\n",
       "   B  C  \n",
       "0  0  0  \n",
       "1  0  0  \n",
       "2  0  0  \n",
       "3  1  0  \n",
       "4  1  0  \n",
       "\n",
       "[5 rows x 21 columns]"
      ]
     },
     "execution_count": 36,
     "metadata": {},
     "output_type": "execute_result"
    }
   ],
   "source": [
    "data_drugs = data.copy()\n",
    "dummies_drugs = pd.get_dummies(data['drug'],drop_first=True)\n",
    "data_drugs = pd.concat([data_drugs,dummies_drugs], axis= 1)\n",
    "data_drugs.head()"
   ]
  },
  {
   "cell_type": "code",
   "execution_count": 37,
   "metadata": {},
   "outputs": [],
   "source": [
    "X_drugs = data_drugs[['B','C','CDCI','CDTF','CDTFCI','CI','None','TF','TFCI']]\n",
    "y_drugs = data_drugs['pa_approved']\n",
    "X_drugs_train, X_drugs_test,y_drugs_train,y_drugs_test = train_test_split(X_drugs,y_drugs,test_size=0.20,random_state=614,shuffle=True,stratify=y_drugs)"
   ]
  },
  {
   "cell_type": "markdown",
   "metadata": {},
   "source": [
    "### Decision Tree Classifier"
   ]
  },
  {
   "cell_type": "code",
   "execution_count": 13,
   "metadata": {},
   "outputs": [],
   "source": [
    "tree = DecisionTreeClassifier(random_state=614)"
   ]
  },
  {
   "cell_type": "code",
   "execution_count": 14,
   "metadata": {},
   "outputs": [
    {
     "data": {
      "text/plain": [
       "DecisionTreeClassifier(random_state=614)"
      ]
     },
     "execution_count": 14,
     "metadata": {},
     "output_type": "execute_result"
    }
   ],
   "source": [
    "tree.fit(X_A_train,y_A_train)"
   ]
  },
  {
   "cell_type": "code",
   "execution_count": 15,
   "metadata": {},
   "outputs": [],
   "source": [
    "## Accuracy\n",
    "from sklearn.metrics import accuracy_score\n",
    "## Precision\n",
    "from sklearn.metrics import precision_score\n",
    "## Recall\n",
    "from sklearn.metrics import recall_score\n"
   ]
  },
  {
   "cell_type": "code",
   "execution_count": 16,
   "metadata": {},
   "outputs": [
    {
     "name": "stdout",
     "output_type": "stream",
     "text": [
      "accuracy is 0.9011090573012939\n",
      "precision is 0.9011090573012939\n",
      "recall is 1.0\n"
     ]
    }
   ],
   "source": [
    "y_pred = tree.predict(X_A_test)\n",
    "print(\"accuracy is\", accuracy_score(y_A_test,y_pred))\n",
    "print(\"precision is\",precision_score(y_A_test,y_pred))\n",
    "print(\"recall is\", recall_score(y_A_test,y_pred))"
   ]
  },
  {
   "cell_type": "code",
   "execution_count": 17,
   "metadata": {},
   "outputs": [],
   "source": [
    "from sklearn.model_selection import StratifiedKFold\n",
    "from sklearn.base import clone"
   ]
  },
  {
   "cell_type": "code",
   "execution_count": 18,
   "metadata": {},
   "outputs": [],
   "source": [
    "## Performing 10-fold Cross-validation\n",
    "kfold = StratifiedKFold(n_splits=10,shuffle = True,random_state=440)\n",
    "accs = np.zeros((10,1))\n",
    "precs = np.zeros((10,1))\n",
    "recs = np.zeros((10,1))\n",
    "tree_clf = DecisionTreeClassifier(random_state=614)\n",
    "i=0\n",
    "for train_index,test_index in kfold.split(X_A_train,y_A_train):\n",
    "    X_train_train,X_train_test = X_A_train.iloc[train_index],X_A_train.iloc[test_index]\n",
    "    y_train_train,y_train_test = y_A_train.iloc[train_index],y_A_train.iloc[test_index]\n",
    "    ## print(\" for iteration\",i,\"X_train_train is\",X_train_train,\"and X_train_test is\",X_train_test)\n",
    "    \n",
    "    tree_clf_clone = clone(tree_clf)\n",
    "    tree_clf_clone.fit(X_train_train,y_train_train)\n",
    "    y_predict = tree_clf_clone.predict(X_train_test)\n",
    "    accs[i,0] = accuracy_score(y_train_test,y_predict)\n",
    "    precs[i,0] = precision_score(y_train_test,y_predict)\n",
    "    recs[i,0] = recall_score(y_train_test,y_predict)\n",
    "    i = i + 1\n"
   ]
  },
  {
   "cell_type": "code",
   "execution_count": 19,
   "metadata": {},
   "outputs": [
    {
     "name": "stdout",
     "output_type": "stream",
     "text": [
      "CV Mean Accuracy is [0.90119051]\n",
      "CV Mean Precision is [0.90119051]\n",
      "CV Mean Recall is [1.]\n"
     ]
    }
   ],
   "source": [
    "print(\"CV Mean Accuracy is\",np.mean(accs,axis=0))\n",
    "print(\"CV Mean Precision is\",np.mean(precs,axis=0))\n",
    "print(\"CV Mean Recall is\",np.mean(recs,axis=0))"
   ]
  },
  {
   "cell_type": "code",
   "execution_count": 20,
   "metadata": {},
   "outputs": [
    {
     "name": "stdout",
     "output_type": "stream",
     "text": [
      "CV Mean Accuracy is [0.65828572]\n",
      "CV Mean Precision is [0.56035803]\n",
      "CV Mean Recall is [0.5747816]\n"
     ]
    }
   ],
   "source": [
    "## Performing 10-fold Cross-validation\n",
    "kfold = StratifiedKFold(n_splits=10,shuffle = True,random_state=440)\n",
    "accs = np.zeros((10,1))\n",
    "precs = np.zeros((10,1))\n",
    "recs = np.zeros((10,1))\n",
    "tree_clf = DecisionTreeClassifier(random_state=614)\n",
    "i=0\n",
    "for train_index,test_index in kfold.split(X_B_train,y_B_train):\n",
    "    X_train_train,X_train_test = X_B_train.iloc[train_index],X_B_train.iloc[test_index]\n",
    "    y_train_train,y_train_test = y_B_train.iloc[train_index],y_B_train.iloc[test_index]\n",
    "    ## print(\" for iteration\",i,\"X_train_train is\",X_train_train,\"and X_train_test is\",X_train_test)\n",
    "    \n",
    "    tree_clf_clone = clone(tree_clf)\n",
    "    tree_clf_clone.fit(X_train_train,y_train_train)\n",
    "    y_predict = tree_clf_clone.predict(X_train_test)\n",
    "    accs[i,0] = accuracy_score(y_train_test,y_predict)\n",
    "    precs[i,0] = precision_score(y_train_test,y_predict)\n",
    "    recs[i,0] = recall_score(y_train_test,y_predict)\n",
    "    i = i + 1\n",
    "\n",
    "print(\"CV Mean Accuracy is\",np.mean(accs,axis=0))\n",
    "print(\"CV Mean Precision is\",np.mean(precs,axis=0))\n",
    "print(\"CV Mean Recall is\",np.mean(recs,axis=0))"
   ]
  },
  {
   "cell_type": "code",
   "execution_count": 21,
   "metadata": {},
   "outputs": [
    {
     "name": "stdout",
     "output_type": "stream",
     "text": [
      "CV Mean Accuracy is [0.83710732]\n",
      "CV Mean Precision is [0.84214251]\n",
      "CV Mean Recall is [0.99035371]\n"
     ]
    }
   ],
   "source": [
    "## Performing 10-fold Cross-validation\n",
    "kfold = StratifiedKFold(n_splits=10,shuffle = True,random_state=440)\n",
    "accs = np.zeros((10,1))\n",
    "precs = np.zeros((10,1))\n",
    "recs = np.zeros((10,1))\n",
    "tree_clf = DecisionTreeClassifier(random_state=614)\n",
    "i=0\n",
    "for train_index,test_index in kfold.split(X_C_train,y_C_train):\n",
    "    X_train_train,X_train_test = X_C_train.iloc[train_index],X_C_train.iloc[test_index]\n",
    "    y_train_train,y_train_test = y_C_train.iloc[train_index],y_C_train.iloc[test_index]\n",
    "    ## print(\" for iteration\",i,\"X_train_train is\",X_train_train,\"and X_train_test is\",X_train_test)\n",
    "    \n",
    "    tree_clf_clone = clone(tree_clf)\n",
    "    tree_clf_clone.fit(X_train_train,y_train_train)\n",
    "    y_predict = tree_clf_clone.predict(X_train_test)\n",
    "    accs[i,0] = accuracy_score(y_train_test,y_predict)\n",
    "    precs[i,0] = precision_score(y_train_test,y_predict)\n",
    "    recs[i,0] = recall_score(y_train_test,y_predict)\n",
    "    i = i + 1\n",
    "\n",
    "print(\"CV Mean Accuracy is\",np.mean(accs,axis=0))\n",
    "print(\"CV Mean Precision is\",np.mean(precs,axis=0))\n",
    "print(\"CV Mean Recall is\",np.mean(recs,axis=0))"
   ]
  },
  {
   "cell_type": "code",
   "execution_count": 22,
   "metadata": {},
   "outputs": [
    {
     "name": "stdout",
     "output_type": "stream",
     "text": [
      "CV Mean Accuracy is [0.90119051 0.90119051 0.90119051 0.90119051 0.90119051 0.90119051\n",
      " 0.90119051 0.90119051 0.90119051 0.90119051]\n",
      "CV Mean Precision is [0.90119051 0.90119051 0.90119051 0.90119051 0.90119051 0.90119051\n",
      " 0.90119051 0.90119051 0.90119051 0.90119051]\n",
      "CV Mean Recall is [1. 1. 1. 1. 1. 1. 1. 1. 1. 1.]\n"
     ]
    }
   ],
   "source": [
    "## Performing 10-fold Cross-validation while iterating max_depth\n",
    "kfold = StratifiedKFold(n_splits=10,shuffle = True,random_state=440)\n",
    "n=10\n",
    "accs = np.zeros((10,n))\n",
    "precs = np.zeros((10,n))\n",
    "recs = np.zeros((10,n))\n",
    "for j in range(1,n+1):\n",
    "    tree_clf = DecisionTreeClassifier(max_depth=j,random_state=614)\n",
    "    i=0\n",
    "    for train_index,test_index in kfold.split(X_A_train,y_A_train):\n",
    "        X_train_train,X_train_test = X_A_train.iloc[train_index],X_A_train.iloc[test_index]\n",
    "        y_train_train,y_train_test = y_A_train.iloc[train_index],y_A_train.iloc[test_index]\n",
    "    ## print(\" for iteration\",i,\"X_train_train is\",X_train_train,\"and X_train_test is\",X_train_test)\n",
    "    \n",
    "        tree_clf_clone = clone(tree_clf)\n",
    "        tree_clf_clone.fit(X_train_train,y_train_train)\n",
    "        y_predict = tree_clf_clone.predict(X_train_test)\n",
    "        accs[i,j-1] = accuracy_score(y_train_test,y_predict)\n",
    "        precs[i,j-1] = precision_score(y_train_test,y_predict)\n",
    "        recs[i,j-1] = recall_score(y_train_test,y_predict)\n",
    "        i = i + 1\n",
    "\n",
    "print(\"CV Mean Accuracy is\",np.mean(accs,axis=0))\n",
    "print(\"CV Mean Precision is\",np.mean(precs,axis=0))\n",
    "print(\"CV Mean Recall is\",np.mean(recs,axis=0))"
   ]
  },
  {
   "cell_type": "code",
   "execution_count": 23,
   "metadata": {},
   "outputs": [
    {
     "data": {
      "image/png": "[encoded data removed]",
      "text/plain": [
       "<Figure size 1008x720 with 1 Axes>"
      ]
     },
     "metadata": {
      "needs_background": "light"
     },
     "output_type": "display_data"
    }
   ],
   "source": [
    "plt.figure(figsize=(14,10))\n",
    "\n",
    "plt.plot(range(1,n+1), np.mean(accs,axis=0),'b-o', label=\"Accuracy\")\n",
    "plt.plot(range(1,n+1), np.mean(precs,axis=0),'r-o', label=\"Precision\")\n",
    "plt.plot(range(1,n+1), np.mean(recs,axis=0),'g-o', label=\"Recall\")\n",
    "\n",
    "plt.ylabel(\"Mean CV Performance Score (Drug A)\",fontsize=16)\n",
    "plt.xlabel(\"Max Depth\",fontsize=16)\n",
    "\n",
    "plt.legend(fontsize=16)\n",
    "\n",
    "plt.show()"
   ]
  },
  {
   "cell_type": "code",
   "execution_count": 24,
   "metadata": {},
   "outputs": [
    {
     "name": "stdout",
     "output_type": "stream",
     "text": [
      "CV Mean Accuracy is [0.65742271 0.65742271 0.65828572 0.65828572 0.65828572 0.65828572\n",
      " 0.65828572 0.65828572 0.65828572 0.65828572]\n",
      "CV Mean Precision is [0.57460459 0.57460459 0.56035803 0.56035803 0.56035803 0.56035803\n",
      " 0.56035803 0.56035803 0.56035803 0.56035803]\n",
      "CV Mean Recall is [0.46831683 0.46831683 0.5747816  0.5747816  0.5747816  0.5747816\n",
      " 0.5747816  0.5747816  0.5747816  0.5747816 ]\n"
     ]
    }
   ],
   "source": [
    "## Performing 10-fold Cross-validation while iterating max_depth\n",
    "kfold = StratifiedKFold(n_splits=10,shuffle = True,random_state=440)\n",
    "n=10\n",
    "accs = np.zeros((10,n))\n",
    "precs = np.zeros((10,n))\n",
    "recs = np.zeros((10,n))\n",
    "for j in range(1,n+1):\n",
    "    tree_clf = DecisionTreeClassifier(max_depth=j,random_state=614)\n",
    "    i=0\n",
    "    for train_index,test_index in kfold.split(X_B_train,y_B_train):\n",
    "        X_train_train,X_train_test = X_B_train.iloc[train_index],X_B_train.iloc[test_index]\n",
    "        y_train_train,y_train_test = y_B_train.iloc[train_index],y_B_train.iloc[test_index]\n",
    "    ## print(\" for iteration\",i,\"X_train_train is\",X_train_train,\"and X_train_test is\",X_train_test)\n",
    "    \n",
    "        tree_clf_clone = clone(tree_clf)\n",
    "        tree_clf_clone.fit(X_train_train,y_train_train)\n",
    "        y_predict = tree_clf_clone.predict(X_train_test)\n",
    "        accs[i,j-1] = accuracy_score(y_train_test,y_predict)\n",
    "        precs[i,j-1] = precision_score(y_train_test,y_predict)\n",
    "        recs[i,j-1] = recall_score(y_train_test,y_predict)\n",
    "        i = i + 1\n",
    "\n",
    "print(\"CV Mean Accuracy is\",np.mean(accs,axis=0))\n",
    "print(\"CV Mean Precision is\",np.mean(precs,axis=0))\n",
    "print(\"CV Mean Recall is\",np.mean(recs,axis=0))"
   ]
  },
  {
   "cell_type": "code",
   "execution_count": 25,
   "metadata": {},
   "outputs": [
    {
     "data": {
      "image/png": "[encoded data removed]",
      "text/plain": [
       "<Figure size 1008x720 with 1 Axes>"
      ]
     },
     "metadata": {
      "needs_background": "light"
     },
     "output_type": "display_data"
    }
   ],
   "source": [
    "plt.figure(figsize=(14,10))\n",
    "\n",
    "plt.plot(range(1,n+1), np.mean(accs,axis=0),'b-o', label=\"Accuracy\")\n",
    "plt.plot(range(1,n+1), np.mean(precs,axis=0),'r-o', label=\"Precision\")\n",
    "plt.plot(range(1,n+1), np.mean(recs,axis=0),'g-o', label=\"Recall\")\n",
    "\n",
    "plt.ylabel(\"Mean CV Performance Score (Drug B)\",fontsize=16)\n",
    "plt.xlabel(\"Max Depth\",fontsize=16)\n",
    "\n",
    "plt.legend(fontsize=16)\n",
    "\n",
    "plt.show()"
   ]
  },
  {
   "cell_type": "code",
   "execution_count": 26,
   "metadata": {},
   "outputs": [
    {
     "name": "stdout",
     "output_type": "stream",
     "text": [
      "CV Mean Accuracy is [0.83411803 0.83710732 0.83710732 0.83710732 0.83710732 0.83710732\n",
      " 0.83710732 0.83710732 0.83710732 0.83710732]\n",
      "CV Mean Precision is [0.83411803 0.84214251 0.84214251 0.84214251 0.84214251 0.84214251\n",
      " 0.84214251 0.84214251 0.84214251 0.84214251]\n",
      "CV Mean Recall is [1.         0.99035371 0.99035371 0.99035371 0.99035371 0.99035371\n",
      " 0.99035371 0.99035371 0.99035371 0.99035371]\n"
     ]
    }
   ],
   "source": [
    "## Performing 10-fold Cross-validation while iterating max_depth\n",
    "kfold = StratifiedKFold(n_splits=10,shuffle = True,random_state=440)\n",
    "n=10\n",
    "accs = np.zeros((10,n))\n",
    "precs = np.zeros((10,n))\n",
    "recs = np.zeros((10,n))\n",
    "for j in range(1,n+1):\n",
    "    tree_clf = DecisionTreeClassifier(max_depth=j,random_state=614)\n",
    "    i=0\n",
    "    for train_index,test_index in kfold.split(X_C_train,y_C_train):\n",
    "        X_train_train,X_train_test = X_C_train.iloc[train_index],X_C_train.iloc[test_index]\n",
    "        y_train_train,y_train_test = y_C_train.iloc[train_index],y_C_train.iloc[test_index]\n",
    "    ## print(\" for iteration\",i,\"X_train_train is\",X_train_train,\"and X_train_test is\",X_train_test)\n",
    "    \n",
    "        tree_clf_clone = clone(tree_clf)\n",
    "        tree_clf_clone.fit(X_train_train,y_train_train)\n",
    "        y_predict = tree_clf_clone.predict(X_train_test)\n",
    "        accs[i,j-1] = accuracy_score(y_train_test,y_predict)\n",
    "        precs[i,j-1] = precision_score(y_train_test,y_predict)\n",
    "        recs[i,j-1] = recall_score(y_train_test,y_predict)\n",
    "        i = i + 1\n",
    "\n",
    "print(\"CV Mean Accuracy is\",np.mean(accs,axis=0))\n",
    "print(\"CV Mean Precision is\",np.mean(precs,axis=0))\n",
    "print(\"CV Mean Recall is\",np.mean(recs,axis=0))"
   ]
  },
  {
   "cell_type": "code",
   "execution_count": 27,
   "metadata": {},
   "outputs": [
    {
     "data": {
      "image/png": "[encoded data removed]",
      "text/plain": [
       "<Figure size 1008x720 with 1 Axes>"
      ]
     },
     "metadata": {
      "needs_background": "light"
     },
     "output_type": "display_data"
    }
   ],
   "source": [
    "plt.figure(figsize=(14,10))\n",
    "\n",
    "plt.plot(range(1,n+1), np.mean(accs,axis=0),'b-o', label=\"Accuracy\")\n",
    "plt.plot(range(1,n+1), np.mean(precs,axis=0),'r-o', label=\"Precision\")\n",
    "plt.plot(range(1,n+1), np.mean(recs,axis=0),'g-o', label=\"Recall\")\n",
    "\n",
    "plt.ylabel(\"Mean CV Performance Score (Drug C)\",fontsize=16)\n",
    "plt.xlabel(\"Max Depth\",fontsize=16)\n",
    "\n",
    "plt.legend(fontsize=16)\n",
    "\n",
    "plt.show()"
   ]
  },
  {
   "cell_type": "code",
   "execution_count": 38,
   "metadata": {},
   "outputs": [
    {
     "name": "stdout",
     "output_type": "stream",
     "text": [
      "CV Mean Accuracy is [0.73457301 0.75667932 0.75675469 0.75650688 0.75650688 0.75650688\n",
      " 0.75650688 0.75650688 0.75650688 0.75650688]\n",
      "CV Mean Precision is [0.84711843 0.78548853 0.79624276 0.78982316 0.78982316 0.78982316\n",
      " 0.78982316 0.78982316 0.78982316 0.78982316]\n",
      "CV Mean Recall is [0.70589041 0.84416002 0.82511825 0.83618749 0.83618749 0.83618749\n",
      " 0.83618749 0.83618749 0.83618749 0.83618749]\n"
     ]
    }
   ],
   "source": [
    "## Performing 10-fold Cross-validation while iterating max_depth\n",
    "kfold = StratifiedKFold(n_splits=10,shuffle = True,random_state=440)\n",
    "n=10\n",
    "accs = np.zeros((10,n))\n",
    "precs = np.zeros((10,n))\n",
    "recs = np.zeros((10,n))\n",
    "for j in range(1,n+1):\n",
    "    tree_clf = DecisionTreeClassifier(max_depth=j,random_state=614)\n",
    "    i=0\n",
    "    for train_index,test_index in kfold.split(X_drugs_train,y_drugs_train):\n",
    "        X_train_train,X_train_test = X_drugs_train.iloc[train_index],X_drugs_train.iloc[test_index]\n",
    "        y_train_train,y_train_test = y_drugs_train.iloc[train_index],y_drugs_train.iloc[test_index]\n",
    "    ## print(\" for iteration\",i,\"X_train_train is\",X_train_train,\"and X_train_test is\",X_train_test\n",
    "    \n",
    "        tree_clf_clone = clone(tree_clf)\n",
    "        tree_clf_clone.fit(X_train_train,y_train_train)\n",
    "        y_predict = tree_clf_clone.predict(X_train_test)\n",
    "        accs[i,j-1] = accuracy_score(y_train_test,y_predict)\n",
    "        precs[i,j-1] = precision_score(y_train_test,y_predict)\n",
    "        recs[i,j-1] = recall_score(y_train_test,y_predict)\n",
    "        i = i + 1\n",
    "\n",
    "print(\"CV Mean Accuracy is\",np.mean(accs,axis=0))\n",
    "print(\"CV Mean Precision is\",np.mean(precs,axis=0))\n",
    "print(\"CV Mean Recall is\",np.mean(recs,axis=0))"
   ]
  },
  {
   "cell_type": "code",
   "execution_count": 39,
   "metadata": {},
   "outputs": [
    {
     "data": {
      "image/png": "[encoded data removed]",
      "text/plain": [
       "<Figure size 1008x720 with 1 Axes>"
      ]
     },
     "metadata": {
      "needs_background": "light"
     },
     "output_type": "display_data"
    }
   ],
   "source": [
    "plt.figure(figsize=(14,10))\n",
    "\n",
    "plt.plot(range(1,n+1), np.mean(accs,axis=0),'b-o', label=\"Accuracy\")\n",
    "plt.plot(range(1,n+1), np.mean(precs,axis=0),'r-o', label=\"Precision\")\n",
    "plt.plot(range(1,n+1), np.mean(recs,axis=0),'g-o', label=\"Recall\")\n",
    "\n",
    "plt.ylabel(\"Mean CV Performance Score (All Drugs)\",fontsize=16)\n",
    "plt.xlabel(\"Max Depth\",fontsize=16)\n",
    "\n",
    "plt.legend(fontsize=16)\n",
    "\n",
    "plt.show()"
   ]
  },
  {
   "cell_type": "markdown",
   "metadata": {},
   "source": [
    "### Random Forest Classifier"
   ]
  },
  {
   "cell_type": "code",
   "execution_count": 28,
   "metadata": {},
   "outputs": [],
   "source": [
    "from sklearn.ensemble import RandomForestClassifier"
   ]
  },
  {
   "cell_type": "code",
   "execution_count": 29,
   "metadata": {},
   "outputs": [],
   "source": [
    "forest = RandomForestClassifier(random_state=440)"
   ]
  },
  {
   "cell_type": "code",
   "execution_count": 30,
   "metadata": {},
   "outputs": [
    {
     "name": "stdout",
     "output_type": "stream",
     "text": [
      "CV Mean Accuracy is [0.90119051 0.90119051 0.90119051 0.90119051 0.90119051 0.90119051\n",
      " 0.90119051 0.90119051]\n",
      "CV Mean Precision is [0.90119051 0.90119051 0.90119051 0.90119051 0.90119051 0.90119051\n",
      " 0.90119051 0.90119051]\n",
      "CV Mean Recall is [1. 1. 1. 1. 1. 1. 1. 1.]\n"
     ]
    }
   ],
   "source": [
    "## Performing 10-fold Cross-validation while iterating n_estimators\n",
    "kfold = StratifiedKFold(n_splits=10,shuffle = True,random_state=440)\n",
    "trees =np.arange(25,225,25)\n",
    "accs_rf = np.zeros((10,len(trees)))\n",
    "precs_rf = np.zeros((10,len(trees)))\n",
    "recs_rf = np.zeros((10,len(trees)))\n",
    "for j in range(len(trees)):\n",
    "    rf_clf = RandomForestClassifier(n_estimators=trees[j-1],random_state=614)\n",
    "    i=0\n",
    "    for train_index,test_index in kfold.split(X_A_train,y_A_train):\n",
    "        X_train_train,X_train_test = X_A_train.iloc[train_index],X_A_train.iloc[test_index]\n",
    "        y_train_train,y_train_test = y_A_train.iloc[train_index],y_A_train.iloc[test_index]\n",
    "    ## print(\" for iteration\",i,\"X_train_train is\",X_train_train,\"and X_train_test is\",X_train_test)\n",
    "    \n",
    "        rf_clf_clone = clone(rf_clf)\n",
    "        rf_clf_clone.fit(X_train_train,y_train_train)\n",
    "        y_predict = rf_clf_clone.predict(X_train_test)\n",
    "        accs_rf[i,j-1] = accuracy_score(y_train_test,y_predict)\n",
    "        precs_rf[i,j-1] = precision_score(y_train_test,y_predict)\n",
    "        recs_rf[i,j-1] = recall_score(y_train_test,y_predict)\n",
    "        i = i + 1\n",
    "\n",
    "print(\"CV Mean Accuracy is\",np.mean(accs_rf,axis=0))\n",
    "print(\"CV Mean Precision is\",np.mean(precs_rf,axis=0))\n",
    "print(\"CV Mean Recall is\",np.mean(recs_rf,axis=0))"
   ]
  },
  {
   "cell_type": "code",
   "execution_count": 31,
   "metadata": {},
   "outputs": [
    {
     "data": {
      "image/png": "[encoded data removed]",
      "text/plain": [
       "<Figure size 1008x720 with 1 Axes>"
      ]
     },
     "metadata": {
      "needs_background": "light"
     },
     "output_type": "display_data"
    }
   ],
   "source": [
    "plt.figure(figsize=(14,10))\n",
    "\n",
    "plt.plot(np.arange(25,225,25), np.mean(accs_rf,axis=0),'b-o', label=\"Accuracy\")\n",
    "plt.plot(np.arange(25,225,25), np.mean(precs_rf,axis=0),'r-o', label=\"Precision\")\n",
    "plt.plot(np.arange(25,225,25), np.mean(recs_rf,axis=0),'g-o', label=\"Recall\")\n",
    "\n",
    "plt.ylabel(\"Mean CV Performance Score (Drug A)\",fontsize=16)\n",
    "plt.xlabel(\"n_estimators\",fontsize=16)\n",
    "\n",
    "plt.legend(fontsize=16)\n",
    "\n",
    "plt.show()"
   ]
  },
  {
   "cell_type": "code",
   "execution_count": 32,
   "metadata": {},
   "outputs": [
    {
     "name": "stdout",
     "output_type": "stream",
     "text": [
      "CV Mean Accuracy is [0.65828572 0.65828572 0.65828572 0.65828572 0.65828572 0.65828572\n",
      " 0.65828572 0.65828572]\n",
      "CV Mean Precision is [0.56035803 0.56035803 0.56035803 0.56035803 0.56035803 0.56035803\n",
      " 0.56035803 0.56035803]\n",
      "CV Mean Recall is [0.5747816 0.5747816 0.5747816 0.5747816 0.5747816 0.5747816 0.5747816\n",
      " 0.5747816]\n"
     ]
    },
    {
     "data": {
      "image/png": "[encoded data removed]",
      "text/plain": [
       "<Figure size 1008x720 with 1 Axes>"
      ]
     },
     "metadata": {
      "needs_background": "light"
     },
     "output_type": "display_data"
    }
   ],
   "source": [
    "## Performing 10-fold Cross-validation while iterating n_estimators\n",
    "kfold = StratifiedKFold(n_splits=10,shuffle = True,random_state=440)\n",
    "trees =np.arange(25,225,25)\n",
    "accs_rf = np.zeros((10,len(trees)))\n",
    "precs_rf = np.zeros((10,len(trees)))\n",
    "recs_rf = np.zeros((10,len(trees)))\n",
    "for j in range(len(trees)):\n",
    "    rf_clf = RandomForestClassifier(n_estimators=trees[j-1],random_state=614)\n",
    "    i=0\n",
    "    for train_index,test_index in kfold.split(X_B_train,y_B_train):\n",
    "        X_train_train,X_train_test = X_B_train.iloc[train_index],X_B_train.iloc[test_index]\n",
    "        y_train_train,y_train_test = y_B_train.iloc[train_index],y_B_train.iloc[test_index]\n",
    "    ## print(\" for iteration\",i,\"X_train_train is\",X_train_train,\"and X_train_test is\",X_train_test)\n",
    "    \n",
    "        rf_clf_clone = clone(rf_clf)\n",
    "        rf_clf_clone.fit(X_train_train,y_train_train)\n",
    "        y_predict = rf_clf_clone.predict(X_train_test)\n",
    "        accs_rf[i,j-1] = accuracy_score(y_train_test,y_predict)\n",
    "        precs_rf[i,j-1] = precision_score(y_train_test,y_predict)\n",
    "        recs_rf[i,j-1] = recall_score(y_train_test,y_predict)\n",
    "        i = i + 1\n",
    "\n",
    "print(\"CV Mean Accuracy is\",np.mean(accs_rf,axis=0))\n",
    "print(\"CV Mean Precision is\",np.mean(precs_rf,axis=0))\n",
    "print(\"CV Mean Recall is\",np.mean(recs_rf,axis=0))\n",
    "plt.figure(figsize=(14,10))\n",
    "\n",
    "plt.plot(np.arange(25,225,25), np.mean(accs_rf,axis=0),'b-o', label=\"Accuracy\")\n",
    "plt.plot(np.arange(25,225,25), np.mean(precs_rf,axis=0),'r-o', label=\"Precision\")\n",
    "plt.plot(np.arange(25,225,25), np.mean(recs_rf,axis=0),'g-o', label=\"Recall\")\n",
    "\n",
    "plt.ylabel(\"Mean CV Performance Score (Drug B)\",fontsize=16)\n",
    "plt.xlabel(\"n_estimators\",fontsize=16)\n",
    "\n",
    "plt.legend(fontsize=16)\n",
    "\n",
    "plt.show()\n"
   ]
  },
  {
   "cell_type": "code",
   "execution_count": 33,
   "metadata": {},
   "outputs": [
    {
     "name": "stdout",
     "output_type": "stream",
     "text": [
      "CV Mean Accuracy is [0.83710732 0.83710732 0.83710732 0.83710732 0.83710732 0.83710732\n",
      " 0.83710732 0.83710732]\n",
      "CV Mean Precision is [0.84214251 0.84214251 0.84214251 0.84214251 0.84214251 0.84214251\n",
      " 0.84214251 0.84214251]\n",
      "CV Mean Recall is [0.99035371 0.99035371 0.99035371 0.99035371 0.99035371 0.99035371\n",
      " 0.99035371 0.99035371]\n"
     ]
    },
    {
     "data": {
      "image/png": "[encoded data removed]",
      "text/plain": [
       "<Figure size 1008x720 with 1 Axes>"
      ]
     },
     "metadata": {
      "needs_background": "light"
     },
     "output_type": "display_data"
    }
   ],
   "source": [
    "## Performing 10-fold Cross-validation while iterating n_estimators\n",
    "kfold = StratifiedKFold(n_splits=10,shuffle = True,random_state=440)\n",
    "trees =np.arange(25,225,25)\n",
    "accs_rf = np.zeros((10,len(trees)))\n",
    "precs_rf = np.zeros((10,len(trees)))\n",
    "recs_rf = np.zeros((10,len(trees)))\n",
    "for j in range(len(trees)):\n",
    "    rf_clf = RandomForestClassifier(n_estimators=trees[j-1],random_state=614)\n",
    "    i=0\n",
    "    for train_index,test_index in kfold.split(X_C_train,y_C_train):\n",
    "        X_train_train,X_train_test = X_C_train.iloc[train_index],X_C_train.iloc[test_index]\n",
    "        y_train_train,y_train_test = y_C_train.iloc[train_index],y_C_train.iloc[test_index]\n",
    "    ## print(\" for iteration\",i,\"X_train_train is\",X_train_train,\"and X_train_test is\",X_train_test)\n",
    "    \n",
    "        rf_clf_clone = clone(rf_clf)\n",
    "        rf_clf_clone.fit(X_train_train,y_train_train)\n",
    "        y_predict = rf_clf_clone.predict(X_train_test)\n",
    "        accs_rf[i,j-1] = accuracy_score(y_train_test,y_predict)\n",
    "        precs_rf[i,j-1] = precision_score(y_train_test,y_predict)\n",
    "        recs_rf[i,j-1] = recall_score(y_train_test,y_predict)\n",
    "        i = i + 1\n",
    "\n",
    "print(\"CV Mean Accuracy is\",np.mean(accs_rf,axis=0))\n",
    "print(\"CV Mean Precision is\",np.mean(precs_rf,axis=0))\n",
    "print(\"CV Mean Recall is\",np.mean(recs_rf,axis=0))\n",
    "plt.figure(figsize=(14,10))\n",
    "\n",
    "plt.plot(np.arange(25,225,25), np.mean(accs_rf,axis=0),'b-o', label=\"Accuracy\")\n",
    "plt.plot(np.arange(25,225,25), np.mean(precs_rf,axis=0),'r-o', label=\"Precision\")\n",
    "plt.plot(np.arange(25,225,25), np.mean(recs_rf,axis=0),'g-o', label=\"Recall\")\n",
    "\n",
    "plt.ylabel(\"Mean CV Performance Score (Drug C)\",fontsize=16)\n",
    "plt.xlabel(\"n_estimators\",fontsize=16)\n",
    "\n",
    "plt.legend(fontsize=16)\n",
    "\n",
    "plt.show()\n"
   ]
  },
  {
   "cell_type": "code",
   "execution_count": 40,
   "metadata": {},
   "outputs": [
    {
     "name": "stdout",
     "output_type": "stream",
     "text": [
      "CV Mean Accuracy is [0.75716408 0.75663616 0.75663616 0.75663616 0.75663616 0.75663616\n",
      " 0.75663616 0.75663616]\n",
      "CV Mean Precision is [0.78571588 0.78855297 0.78855297 0.78855297 0.78855297 0.78855297\n",
      " 0.78855297 0.78855297]\n",
      "CV Mean Recall is [0.84535772 0.83902753 0.83902753 0.83902753 0.83902753 0.83902753\n",
      " 0.83902753 0.83902753]\n"
     ]
    },
    {
     "data": {
      "image/png": "[encoded data removed]",
      "text/plain": [
       "<Figure size 1008x720 with 1 Axes>"
      ]
     },
     "metadata": {
      "needs_background": "light"
     },
     "output_type": "display_data"
    }
   ],
   "source": [
    "## Performing 10-fold Cross-validation while iterating n_estimators\n",
    "kfold = StratifiedKFold(n_splits=10,shuffle = True,random_state=440)\n",
    "trees =np.arange(25,225,25)\n",
    "accs_rf = np.zeros((10,len(trees)))\n",
    "precs_rf = np.zeros((10,len(trees)))\n",
    "recs_rf = np.zeros((10,len(trees)))\n",
    "for j in range(len(trees)):\n",
    "    rf_clf = RandomForestClassifier(n_estimators=trees[j-1],random_state=614)\n",
    "    i=0\n",
    "    for train_index,test_index in kfold.split(X_drugs_train,y_drugs_train):\n",
    "        X_train_train,X_train_test = X_drugs_train.iloc[train_index],X_drugs_train.iloc[test_index]\n",
    "        y_train_train,y_train_test = y_drugs_train.iloc[train_index],y_drugs_train.iloc[test_index]\n",
    "    ## print(\" for iteration\",i,\"X_train_train is\",X_train_train,\"and X_train_test is\",X_train_test)\n",
    "    \n",
    "        rf_clf_clone = clone(rf_clf)\n",
    "        rf_clf_clone.fit(X_train_train,y_train_train)\n",
    "        y_predict = rf_clf_clone.predict(X_train_test)\n",
    "        accs_rf[i,j-1] = accuracy_score(y_train_test,y_predict)\n",
    "        precs_rf[i,j-1] = precision_score(y_train_test,y_predict)\n",
    "        recs_rf[i,j-1] = recall_score(y_train_test,y_predict)\n",
    "        i = i + 1\n",
    "\n",
    "print(\"CV Mean Accuracy is\",np.mean(accs_rf,axis=0))\n",
    "print(\"CV Mean Precision is\",np.mean(precs_rf,axis=0))\n",
    "print(\"CV Mean Recall is\",np.mean(recs_rf,axis=0))\n",
    "plt.figure(figsize=(14,10))\n",
    "\n",
    "plt.plot(np.arange(25,225,25), np.mean(accs_rf,axis=0),'b-o', label=\"Accuracy\")\n",
    "plt.plot(np.arange(25,225,25), np.mean(precs_rf,axis=0),'r-o', label=\"Precision\")\n",
    "plt.plot(np.arange(25,225,25), np.mean(recs_rf,axis=0),'g-o', label=\"Recall\")\n",
    "\n",
    "plt.ylabel(\"Mean CV Performance Score (All drugs)\",fontsize=16)\n",
    "plt.xlabel(\"n_estimators\",fontsize=16)\n",
    "\n",
    "plt.legend(fontsize=16)\n",
    "\n",
    "plt.show()\n",
    "\n"
   ]
  },
  {
   "cell_type": "code",
   "execution_count": 72,
   "metadata": {},
   "outputs": [
    {
     "name": "stdout",
     "output_type": "stream",
     "text": [
      "CV Mean Accuracy is [0.75634527 0.75622678 0.75622678 0.75622678 0.75622678 0.75622678\n",
      " 0.75622678 0.75622678]\n",
      "CV Mean Precision is [0.78040701 0.77897201 0.77897201 0.77897201 0.77897201 0.77897201\n",
      " 0.77897201 0.77897201]\n",
      "CV Mean Recall is [0.85348427 0.85603346 0.85603346 0.85603346 0.85603346 0.85603346\n",
      " 0.85603346 0.85603346]\n"
     ]
    },
    {
     "data": {
      "image/png": "[encoded data removed]",
      "text/plain": [
       "<Figure size 1008x720 with 1 Axes>"
      ]
     },
     "metadata": {
      "needs_background": "light"
     },
     "output_type": "display_data"
    }
   ],
   "source": [
    "## Performing 10-fold Cross-validation while iterating n_estimators\n",
    "kfold = StratifiedKFold(n_splits=10,shuffle = True,random_state=440)\n",
    "trees =np.arange(25,225,25)\n",
    "accs_rf = np.zeros((10,len(trees)))\n",
    "precs_rf = np.zeros((10,len(trees)))\n",
    "recs_rf = np.zeros((10,len(trees)))\n",
    "for j in range(len(trees)):\n",
    "    rf_clf = RandomForestClassifier(n_estimators=trees[j-1],random_state=614)\n",
    "    i=0\n",
    "    for train_index,test_index in kfold.split(X_train,y_train):\n",
    "        X_train_train,X_train_test = X_train.iloc[train_index],X_train.iloc[test_index]\n",
    "        y_train_train,y_train_test = y_train.iloc[train_index],y_train.iloc[test_index]\n",
    "    ## print(\" for iteration\",i,\"X_train_train is\",X_train_train,\"and X_train_test is\",X_train_test)\n",
    "    \n",
    "        rf_clf_clone = clone(rf_clf)\n",
    "        rf_clf_clone.fit(X_train_train,y_train_train)\n",
    "        y_predict = rf_clf_clone.predict(X_train_test)\n",
    "        accs_rf[i,j-1] = accuracy_score(y_train_test,y_predict)\n",
    "        precs_rf[i,j-1] = precision_score(y_train_test,y_predict)\n",
    "        recs_rf[i,j-1] = recall_score(y_train_test,y_predict)\n",
    "        i = i + 1\n",
    "\n",
    "print(\"CV Mean Accuracy is\",np.mean(accs_rf,axis=0))\n",
    "print(\"CV Mean Precision is\",np.mean(precs_rf,axis=0))\n",
    "print(\"CV Mean Recall is\",np.mean(recs_rf,axis=0))\n",
    "plt.figure(figsize=(14,10))\n",
    "\n",
    "plt.plot(np.arange(25,225,25), np.mean(accs_rf,axis=0),'b-o', label=\"Accuracy\")\n",
    "plt.plot(np.arange(25,225,25), np.mean(precs_rf,axis=0),'r-o', label=\"Precision\")\n",
    "plt.plot(np.arange(25,225,25), np.mean(recs_rf,axis=0),'g-o', label=\"Recall\")\n",
    "\n",
    "plt.ylabel(\"Mean CV Performance Score (All drugs)\",fontsize=16)\n",
    "plt.xlabel(\"n_estimators\",fontsize=16)\n",
    "\n",
    "plt.legend(fontsize=16)\n",
    "\n",
    "plt.show()\n"
   ]
  },
  {
   "cell_type": "code",
   "execution_count": null,
   "metadata": {},
   "outputs": [],
   "source": []
  }
 ],
 "metadata": {
  "kernelspec": {
   "display_name": "Python 3",
   "language": "python",
   "name": "python3"
  },
  "language_info": {
   "codemirror_mode": {
    "name": "ipython",
    "version": 3
   },
   "file_extension": ".py",
   "mimetype": "text/x-python",
   "name": "python",
   "nbconvert_exporter": "python",
   "pygments_lexer": "ipython3",
   "version": "3.6.10"
  }
 },
 "nbformat": 4,
 "nbformat_minor": 4
}
