{
 "cells": [
  {
   "cell_type": "markdown",
   "id": "6cc6ddf4",
   "metadata": {},
   "source": [
    "# Approval Predicting Function\n",
    "## 1. Determine probability of a PA being required\n",
    "## 2. Given conditions, probability of PA being approved"
   ]
  },
  {
   "cell_type": "code",
   "execution_count": null,
   "id": "7b20a878",
   "metadata": {},
   "outputs": [],
   "source": []
  }
 ],
 "metadata": {
  "kernelspec": {
   "display_name": "Python 3",
   "language": "python",
   "name": "python3"
  },
  "language_info": {
   "codemirror_mode": {
    "name": "ipython",
    "version": 3
   },
   "file_extension": ".py",
   "mimetype": "text/x-python",
   "name": "python",
   "nbconvert_exporter": "python",
   "pygments_lexer": "ipython3",
   "version": "3.8.5"
  }
 },
 "nbformat": 4,
 "nbformat_minor": 5
}
